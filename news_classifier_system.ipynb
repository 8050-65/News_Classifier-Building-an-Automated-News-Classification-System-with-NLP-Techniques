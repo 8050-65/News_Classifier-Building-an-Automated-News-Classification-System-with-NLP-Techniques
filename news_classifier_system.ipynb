{
 "cells": [
  {
   "cell_type": "markdown",
   "metadata": {},
   "source": [
    "# NEWS CLASSIFIER SYSTEM"
   ]
  },
  {
   "cell_type": "markdown",
   "metadata": {},
   "source": [
    "# DATA-CLEANING PROCESS"
   ]
  },
  {
   "cell_type": "markdown",
   "metadata": {},
   "source": [
    "# importing libraries"
   ]
  },
  {
   "cell_type": "code",
   "execution_count": 18,
   "metadata": {},
   "outputs": [],
   "source": [
    "import pandas as pd\n",
    "import re\n",
    "import string\n",
    "from nltk.corpus import stopwords\n",
    "from textblob import TextBlob\n",
    "from wordcloud import WordCloud\n",
    "import matplotlib.pyplot as plt\n",
    "from sklearn.feature_extraction.text import TfidfVectorizer\n",
    "from sklearn.cluster import KMeans\n",
    "from sklearn.model_selection import train_test_split\n",
    "from sklearn.naive_bayes import MultinomialNB\n",
    "from sklearn.linear_model import LogisticRegression\n",
    "from sklearn.ensemble import RandomForestClassifier\n",
    "from sklearn.svm import LinearSVC\n",
    "from sklearn.model_selection import cross_val_score\n",
    "from sklearn import metrics"
   ]
  },
  {
   "cell_type": "code",
   "execution_count": 3,
   "metadata": {},
   "outputs": [
    {
     "data": {
      "text/html": [
       "<div>\n",
       "<style scoped>\n",
       "    .dataframe tbody tr th:only-of-type {\n",
       "        vertical-align: middle;\n",
       "    }\n",
       "\n",
       "    .dataframe tbody tr th {\n",
       "        vertical-align: top;\n",
       "    }\n",
       "\n",
       "    .dataframe thead th {\n",
       "        text-align: right;\n",
       "    }\n",
       "</style>\n",
       "<table border=\"1\" class=\"dataframe\">\n",
       "  <thead>\n",
       "    <tr style=\"text-align: right;\">\n",
       "      <th></th>\n",
       "      <th>category</th>\n",
       "      <th>text</th>\n",
       "    </tr>\n",
       "  </thead>\n",
       "  <tbody>\n",
       "    <tr>\n",
       "      <th>0</th>\n",
       "      <td>tech</td>\n",
       "      <td>tv future in the hands of viewers with home th...</td>\n",
       "    </tr>\n",
       "    <tr>\n",
       "      <th>1</th>\n",
       "      <td>business</td>\n",
       "      <td>worldcom boss  left books alone  former worldc...</td>\n",
       "    </tr>\n",
       "    <tr>\n",
       "      <th>2</th>\n",
       "      <td>sport</td>\n",
       "      <td>tigers wary of farrell  gamble  leicester say ...</td>\n",
       "    </tr>\n",
       "    <tr>\n",
       "      <th>3</th>\n",
       "      <td>sport</td>\n",
       "      <td>yeading face newcastle in fa cup premiership s...</td>\n",
       "    </tr>\n",
       "    <tr>\n",
       "      <th>4</th>\n",
       "      <td>entertainment</td>\n",
       "      <td>ocean s twelve raids box office ocean s twelve...</td>\n",
       "    </tr>\n",
       "  </tbody>\n",
       "</table>\n",
       "</div>"
      ],
      "text/plain": [
       "        category                                               text\n",
       "0           tech  tv future in the hands of viewers with home th...\n",
       "1       business  worldcom boss  left books alone  former worldc...\n",
       "2          sport  tigers wary of farrell  gamble  leicester say ...\n",
       "3          sport  yeading face newcastle in fa cup premiership s...\n",
       "4  entertainment  ocean s twelve raids box office ocean s twelve..."
      ]
     },
     "execution_count": 3,
     "metadata": {},
     "output_type": "execute_result"
    }
   ],
   "source": [
    "data = pd.read_csv(\"D:\\\\CARRIER FAIR NLP NEWS CLASSIFIER\\\\bbc-text.csv\")\n",
    "data.head()"
   ]
  },
  {
   "cell_type": "code",
   "execution_count": 4,
   "metadata": {},
   "outputs": [
    {
     "name": "stdout",
     "output_type": "stream",
     "text": [
      "<class 'pandas.core.frame.DataFrame'>\n",
      "RangeIndex: 2225 entries, 0 to 2224\n",
      "Data columns (total 2 columns):\n",
      " #   Column    Non-Null Count  Dtype \n",
      "---  ------    --------------  ----- \n",
      " 0   category  2225 non-null   object\n",
      " 1   text      2225 non-null   object\n",
      "dtypes: object(2)\n",
      "memory usage: 34.9+ KB\n"
     ]
    }
   ],
   "source": [
    "data.info()"
   ]
  },
  {
   "cell_type": "code",
   "execution_count": 5,
   "metadata": {},
   "outputs": [
    {
     "data": {
      "text/html": [
       "<div>\n",
       "<style scoped>\n",
       "    .dataframe tbody tr th:only-of-type {\n",
       "        vertical-align: middle;\n",
       "    }\n",
       "\n",
       "    .dataframe tbody tr th {\n",
       "        vertical-align: top;\n",
       "    }\n",
       "\n",
       "    .dataframe thead th {\n",
       "        text-align: right;\n",
       "    }\n",
       "</style>\n",
       "<table border=\"1\" class=\"dataframe\">\n",
       "  <thead>\n",
       "    <tr style=\"text-align: right;\">\n",
       "      <th></th>\n",
       "      <th>category</th>\n",
       "      <th>text</th>\n",
       "    </tr>\n",
       "  </thead>\n",
       "  <tbody>\n",
       "    <tr>\n",
       "      <th>count</th>\n",
       "      <td>2225</td>\n",
       "      <td>2225</td>\n",
       "    </tr>\n",
       "    <tr>\n",
       "      <th>unique</th>\n",
       "      <td>5</td>\n",
       "      <td>2126</td>\n",
       "    </tr>\n",
       "    <tr>\n",
       "      <th>top</th>\n",
       "      <td>sport</td>\n",
       "      <td>kennedy questions trust of blair lib dem leade...</td>\n",
       "    </tr>\n",
       "    <tr>\n",
       "      <th>freq</th>\n",
       "      <td>511</td>\n",
       "      <td>2</td>\n",
       "    </tr>\n",
       "  </tbody>\n",
       "</table>\n",
       "</div>"
      ],
      "text/plain": [
       "       category                                               text\n",
       "count      2225                                               2225\n",
       "unique        5                                               2126\n",
       "top       sport  kennedy questions trust of blair lib dem leade...\n",
       "freq        511                                                  2"
      ]
     },
     "execution_count": 5,
     "metadata": {},
     "output_type": "execute_result"
    }
   ],
   "source": [
    "data.describe()"
   ]
  },
  {
   "cell_type": "code",
   "execution_count": 6,
   "metadata": {},
   "outputs": [
    {
     "data": {
      "text/plain": [
       "category    object\n",
       "text        object\n",
       "dtype: object"
      ]
     },
     "execution_count": 6,
     "metadata": {},
     "output_type": "execute_result"
    }
   ],
   "source": [
    "data.dtypes"
   ]
  },
  {
   "cell_type": "code",
   "execution_count": 7,
   "metadata": {},
   "outputs": [
    {
     "data": {
      "text/plain": [
       "Index(['category', 'text'], dtype='object')"
      ]
     },
     "execution_count": 7,
     "metadata": {},
     "output_type": "execute_result"
    }
   ],
   "source": [
    "data.columns"
   ]
  },
  {
   "cell_type": "code",
   "execution_count": 9,
   "metadata": {},
   "outputs": [
    {
     "data": {
      "text/plain": [
       "99"
      ]
     },
     "execution_count": 9,
     "metadata": {},
     "output_type": "execute_result"
    }
   ],
   "source": [
    "data.duplicated().sum()"
   ]
  },
  {
   "cell_type": "markdown",
   "metadata": {},
   "source": [
    "$$\n",
    "Clearing-All-Duplicates-From-Data\n",
    "$$"
   ]
  },
  {
   "cell_type": "code",
   "execution_count": 10,
   "metadata": {},
   "outputs": [],
   "source": [
    "data = data.drop_duplicates()"
   ]
  },
  {
   "cell_type": "code",
   "execution_count": 11,
   "metadata": {},
   "outputs": [
    {
     "data": {
      "text/plain": [
       "0"
      ]
     },
     "execution_count": 11,
     "metadata": {},
     "output_type": "execute_result"
    }
   ],
   "source": [
    "data.duplicated().sum()"
   ]
  },
  {
   "cell_type": "markdown",
   "metadata": {},
   "source": [
    "$$\n",
    "Text-Cleaning\n",
    "$$"
   ]
  },
  {
   "cell_type": "code",
   "execution_count": 12,
   "metadata": {},
   "outputs": [],
   "source": [
    "import re\n",
    "import string\n",
    "from nltk.corpus import stopwords"
   ]
  },
  {
   "cell_type": "code",
   "execution_count": 13,
   "metadata": {},
   "outputs": [
    {
     "name": "stdout",
     "output_type": "stream",
     "text": [
      "['i', 'me', 'my', 'myself', 'we', 'our', 'ours', 'ourselves', 'you', \"you're\", \"you've\", \"you'll\", \"you'd\", 'your', 'yours', 'yourself', 'yourselves', 'he', 'him', 'his', 'himself', 'she', \"she's\", 'her', 'hers', 'herself', 'it', \"it's\", 'its', 'itself', 'they', 'them', 'their', 'theirs', 'themselves', 'what', 'which', 'who', 'whom', 'this', 'that', \"that'll\", 'these', 'those', 'am', 'is', 'are', 'was', 'were', 'be', 'been', 'being', 'have', 'has', 'had', 'having', 'do', 'does', 'did', 'doing', 'a', 'an', 'the', 'and', 'but', 'if', 'or', 'because', 'as', 'until', 'while', 'of', 'at', 'by', 'for', 'with', 'about', 'against', 'between', 'into', 'through', 'during', 'before', 'after', 'above', 'below', 'to', 'from', 'up', 'down', 'in', 'out', 'on', 'off', 'over', 'under', 'again', 'further', 'then', 'once', 'here', 'there', 'when', 'where', 'why', 'how', 'all', 'any', 'both', 'each', 'few', 'more', 'most', 'other', 'some', 'such', 'no', 'nor', 'not', 'only', 'own', 'same', 'so', 'than', 'too', 'very', 's', 't', 'can', 'will', 'just', 'don', \"don't\", 'should', \"should've\", 'now', 'd', 'll', 'm', 'o', 're', 've', 'y', 'ain', 'aren', \"aren't\", 'couldn', \"couldn't\", 'didn', \"didn't\", 'doesn', \"doesn't\", 'hadn', \"hadn't\", 'hasn', \"hasn't\", 'haven', \"haven't\", 'isn', \"isn't\", 'ma', 'mightn', \"mightn't\", 'mustn', \"mustn't\", 'needn', \"needn't\", 'shan', \"shan't\", 'shouldn', \"shouldn't\", 'wasn', \"wasn't\", 'weren', \"weren't\", 'won', \"won't\", 'wouldn', \"wouldn't\"]\n"
     ]
    }
   ],
   "source": [
    "print(stopwords.words('english'))"
   ]
  },
  {
   "cell_type": "code",
   "execution_count": 14,
   "metadata": {},
   "outputs": [
    {
     "data": {
      "text/plain": [
       "'!\"#$%&\\'()*+,-./:;<=>?@[\\\\]^_`{|}~'"
      ]
     },
     "execution_count": 14,
     "metadata": {},
     "output_type": "execute_result"
    }
   ],
   "source": [
    "string.punctuation\n",
    "'!\"#$%&\\'()*+,-./:;<=>?@[\\\\]^_`{|}~'"
   ]
  },
  {
   "cell_type": "code",
   "execution_count": 15,
   "metadata": {},
   "outputs": [],
   "source": [
    "def text_process(text):\n",
    "    clean_txt = re.sub(r\"\\n\",\"\",text)\n",
    "    clean_txt = [char for char in clean_txt if char not in string.punctuation]\n",
    "    clean_txt = ''.join(clean_txt)\n",
    "    clean_txt = \" \".join(word for word in clean_txt.split() if word.lower() not in stopwords.words('english'))\n",
    "    return clean_txt"
   ]
  },
  {
   "cell_type": "code",
   "execution_count": 17,
   "metadata": {},
   "outputs": [
    {
     "data": {
      "text/html": [
       "<div>\n",
       "<style scoped>\n",
       "    .dataframe tbody tr th:only-of-type {\n",
       "        vertical-align: middle;\n",
       "    }\n",
       "\n",
       "    .dataframe tbody tr th {\n",
       "        vertical-align: top;\n",
       "    }\n",
       "\n",
       "    .dataframe thead th {\n",
       "        text-align: right;\n",
       "    }\n",
       "</style>\n",
       "<table border=\"1\" class=\"dataframe\">\n",
       "  <thead>\n",
       "    <tr style=\"text-align: right;\">\n",
       "      <th></th>\n",
       "      <th>category</th>\n",
       "      <th>text</th>\n",
       "      <th>cleaned_text</th>\n",
       "    </tr>\n",
       "  </thead>\n",
       "  <tbody>\n",
       "    <tr>\n",
       "      <th>0</th>\n",
       "      <td>tech</td>\n",
       "      <td>tv future in the hands of viewers with home th...</td>\n",
       "      <td>tv future hands viewers home theatre systems p...</td>\n",
       "    </tr>\n",
       "    <tr>\n",
       "      <th>1</th>\n",
       "      <td>business</td>\n",
       "      <td>worldcom boss  left books alone  former worldc...</td>\n",
       "      <td>worldcom boss left books alone former worldcom...</td>\n",
       "    </tr>\n",
       "    <tr>\n",
       "      <th>2</th>\n",
       "      <td>sport</td>\n",
       "      <td>tigers wary of farrell  gamble  leicester say ...</td>\n",
       "      <td>tigers wary farrell gamble leicester say rushe...</td>\n",
       "    </tr>\n",
       "    <tr>\n",
       "      <th>3</th>\n",
       "      <td>sport</td>\n",
       "      <td>yeading face newcastle in fa cup premiership s...</td>\n",
       "      <td>yeading face newcastle fa cup premiership side...</td>\n",
       "    </tr>\n",
       "    <tr>\n",
       "      <th>4</th>\n",
       "      <td>entertainment</td>\n",
       "      <td>ocean s twelve raids box office ocean s twelve...</td>\n",
       "      <td>ocean twelve raids box office ocean twelve cri...</td>\n",
       "    </tr>\n",
       "  </tbody>\n",
       "</table>\n",
       "</div>"
      ],
      "text/plain": [
       "        category                                               text  \\\n",
       "0           tech  tv future in the hands of viewers with home th...   \n",
       "1       business  worldcom boss  left books alone  former worldc...   \n",
       "2          sport  tigers wary of farrell  gamble  leicester say ...   \n",
       "3          sport  yeading face newcastle in fa cup premiership s...   \n",
       "4  entertainment  ocean s twelve raids box office ocean s twelve...   \n",
       "\n",
       "                                        cleaned_text  \n",
       "0  tv future hands viewers home theatre systems p...  \n",
       "1  worldcom boss left books alone former worldcom...  \n",
       "2  tigers wary farrell gamble leicester say rushe...  \n",
       "3  yeading face newcastle fa cup premiership side...  \n",
       "4  ocean twelve raids box office ocean twelve cri...  "
      ]
     },
     "execution_count": 17,
     "metadata": {},
     "output_type": "execute_result"
    }
   ],
   "source": [
    "data['cleaned_text'] = data['text'].apply(text_process)\n",
    "data.head()"
   ]
  },
  {
   "cell_type": "markdown",
   "metadata": {},
   "source": [
    "**Word Cloud**"
   ]
  },
  {
   "cell_type": "code",
   "execution_count": 19,
   "metadata": {},
   "outputs": [],
   "source": [
    "from textblob import TextBlob\n",
    "from wordcloud import WordCloud\n",
    "combined = \" \".join(word for word in data['cleaned_text'])"
   ]
  },
  {
   "cell_type": "code",
   "execution_count": 20,
   "metadata": {},
   "outputs": [
    {
     "data": {
      "text/plain": [
       "<Figure size 1500x800 with 0 Axes>"
      ]
     },
     "execution_count": 20,
     "metadata": {},
     "output_type": "execute_result"
    },
    {
     "data": {
      "text/plain": [
       "<Figure size 1500x800 with 0 Axes>"
      ]
     },
     "metadata": {},
     "output_type": "display_data"
    }
   ],
   "source": [
    "import matplotlib.pyplot as plt\n",
    "plt.figure(figsize=(15,8))"
   ]
  },
  {
   "cell_type": "code",
   "execution_count": 22,
   "metadata": {},
   "outputs": [
    {
     "data": {
      "image/png": "[encoded data removed]",
      "text/plain": [
       "<Figure size 640x480 with 1 Axes>"
      ]
     },
     "metadata": {},
     "output_type": "display_data"
    }
   ],
   "source": [
    "wordcloud = WordCloud(width=1000,height = 500,random_state=20,max_font_size=150,background_color= 'white',colormap='Paired_r').generate(combined)\n",
    "plt.imshow(wordcloud, interpolation= 'bilinear')\n",
    "plt.axis('off')\n",
    "plt.show()"
   ]
  },
  {
   "cell_type": "markdown",
   "metadata": {},
   "source": [
    "**Clustering**"
   ]
  },
  {
   "cell_type": "code",
   "execution_count": 23,
   "metadata": {},
   "outputs": [],
   "source": [
    "cluster_data = data.drop(['text','category'],axis=1)"
   ]
  },
  {
   "cell_type": "code",
   "execution_count": 24,
   "metadata": {},
   "outputs": [],
   "source": [
    "from sklearn.feature_extraction.text import TfidfVectorizer\n",
    "from sklearn.cluster import KMeans\n",
    "vectorizer = TfidfVectorizer()\n",
    "X = vectorizer.fit_transform(cluster_data.cleaned_text.values)"
   ]
  },
  {
   "cell_type": "code",
   "execution_count": 25,
   "metadata": {},
   "outputs": [
    {
     "data": {
      "text/html": [
       "<style>#sk-container-id-1 {color: black;}#sk-container-id-1 pre{padding: 0;}#sk-container-id-1 div.sk-toggleable {background-color: white;}#sk-container-id-1 label.sk-toggleable__label {cursor: pointer;display: block;width: 100%;margin-bottom: 0;padding: 0.3em;box-sizing: border-box;text-align: center;}#sk-container-id-1 label.sk-toggleable__label-arrow:before {content: \"▸\";float: left;margin-right: 0.25em;color: #696969;}#sk-container-id-1 label.sk-toggleable__label-arrow:hover:before {color: black;}#sk-container-id-1 div.sk-estimator:hover label.sk-toggleable__label-arrow:before {color: black;}#sk-container-id-1 div.sk-toggleable__content {max-height: 0;max-width: 0;overflow: hidden;text-align: left;background-color: #f0f8ff;}#sk-container-id-1 div.sk-toggleable__content pre {margin: 0.2em;color: black;border-radius: 0.25em;background-color: #f0f8ff;}#sk-container-id-1 input.sk-toggleable__control:checked~div.sk-toggleable__content {max-height: 200px;max-width: 100%;overflow: auto;}#sk-container-id-1 input.sk-toggleable__control:checked~label.sk-toggleable__label-arrow:before {content: \"▾\";}#sk-container-id-1 div.sk-estimator input.sk-toggleable__control:checked~label.sk-toggleable__label {background-color: #d4ebff;}#sk-container-id-1 div.sk-label input.sk-toggleable__control:checked~label.sk-toggleable__label {background-color: #d4ebff;}#sk-container-id-1 input.sk-hidden--visually {border: 0;clip: rect(1px 1px 1px 1px);clip: rect(1px, 1px, 1px, 1px);height: 1px;margin: -1px;overflow: hidden;padding: 0;position: absolute;width: 1px;}#sk-container-id-1 div.sk-estimator {font-family: monospace;background-color: #f0f8ff;border: 1px dotted black;border-radius: 0.25em;box-sizing: border-box;margin-bottom: 0.5em;}#sk-container-id-1 div.sk-estimator:hover {background-color: #d4ebff;}#sk-container-id-1 div.sk-parallel-item::after {content: \"\";width: 100%;border-bottom: 1px solid gray;flex-grow: 1;}#sk-container-id-1 div.sk-label:hover label.sk-toggleable__label {background-color: #d4ebff;}#sk-container-id-1 div.sk-serial::before {content: \"\";position: absolute;border-left: 1px solid gray;box-sizing: border-box;top: 0;bottom: 0;left: 50%;z-index: 0;}#sk-container-id-1 div.sk-serial {display: flex;flex-direction: column;align-items: center;background-color: white;padding-right: 0.2em;padding-left: 0.2em;position: relative;}#sk-container-id-1 div.sk-item {position: relative;z-index: 1;}#sk-container-id-1 div.sk-parallel {display: flex;align-items: stretch;justify-content: center;background-color: white;position: relative;}#sk-container-id-1 div.sk-item::before, #sk-container-id-1 div.sk-parallel-item::before {content: \"\";position: absolute;border-left: 1px solid gray;box-sizing: border-box;top: 0;bottom: 0;left: 50%;z-index: -1;}#sk-container-id-1 div.sk-parallel-item {display: flex;flex-direction: column;z-index: 1;position: relative;background-color: white;}#sk-container-id-1 div.sk-parallel-item:first-child::after {align-self: flex-end;width: 50%;}#sk-container-id-1 div.sk-parallel-item:last-child::after {align-self: flex-start;width: 50%;}#sk-container-id-1 div.sk-parallel-item:only-child::after {width: 0;}#sk-container-id-1 div.sk-dashed-wrapped {border: 1px dashed gray;margin: 0 0.4em 0.5em 0.4em;box-sizing: border-box;padding-bottom: 0.4em;background-color: white;}#sk-container-id-1 div.sk-label label {font-family: monospace;font-weight: bold;display: inline-block;line-height: 1.2em;}#sk-container-id-1 div.sk-label-container {text-align: center;}#sk-container-id-1 div.sk-container {/* jupyter's `normalize.less` sets `[hidden] { display: none; }` but bootstrap.min.css set `[hidden] { display: none !important; }` so we also need the `!important` here to be able to override the default hidden behavior on the sphinx rendered scikit-learn.org. See: https://github.com/scikit-learn/scikit-learn/issues/21755 */display: inline-block !important;position: relative;}#sk-container-id-1 div.sk-text-repr-fallback {display: none;}</style><div id=\"sk-container-id-1\" class=\"sk-top-container\"><div class=\"sk-text-repr-fallback\"><pre>KMeans(n_clusters=4, n_init=10)</pre><b>In a Jupyter environment, please rerun this cell to show the HTML representation or trust the notebook. <br />On GitHub, the HTML representation is unable to render, please try loading this page with nbviewer.org.</b></div><div class=\"sk-container\" hidden><div class=\"sk-item\"><div class=\"sk-estimator sk-toggleable\"><input class=\"sk-toggleable__control sk-hidden--visually\" id=\"sk-estimator-id-1\" type=\"checkbox\" checked><label for=\"sk-estimator-id-1\" class=\"sk-toggleable__label sk-toggleable__label-arrow\">KMeans</label><div class=\"sk-toggleable__content\"><pre>KMeans(n_clusters=4, n_init=10)</pre></div></div></div></div></div>"
      ],
      "text/plain": [
       "KMeans(n_clusters=4, n_init=10)"
      ]
     },
     "execution_count": 25,
     "metadata": {},
     "output_type": "execute_result"
    }
   ],
   "source": [
    "clust = KMeans(init='k-means++',n_clusters=4,n_init=10)\n",
    "clust.fit(X)"
   ]
  },
  {
   "cell_type": "code",
   "execution_count": 26,
   "metadata": {},
   "outputs": [],
   "source": [
    "predictions = clust.predict(X)"
   ]
  },
  {
   "cell_type": "code",
   "execution_count": 28,
   "metadata": {},
   "outputs": [],
   "source": [
    "cluster_data['cluster_labels'] = clust.labels_"
   ]
  },
  {
   "cell_type": "code",
   "execution_count": 29,
   "metadata": {},
   "outputs": [
    {
     "data": {
      "text/html": [
       "<div>\n",
       "<style scoped>\n",
       "    .dataframe tbody tr th:only-of-type {\n",
       "        vertical-align: middle;\n",
       "    }\n",
       "\n",
       "    .dataframe tbody tr th {\n",
       "        vertical-align: top;\n",
       "    }\n",
       "\n",
       "    .dataframe thead th {\n",
       "        text-align: right;\n",
       "    }\n",
       "</style>\n",
       "<table border=\"1\" class=\"dataframe\">\n",
       "  <thead>\n",
       "    <tr style=\"text-align: right;\">\n",
       "      <th></th>\n",
       "      <th>cleaned_text</th>\n",
       "      <th>cluster_labels</th>\n",
       "    </tr>\n",
       "  </thead>\n",
       "  <tbody>\n",
       "    <tr>\n",
       "      <th>0</th>\n",
       "      <td>tv future hands viewers home theatre systems p...</td>\n",
       "      <td>0</td>\n",
       "    </tr>\n",
       "    <tr>\n",
       "      <th>1</th>\n",
       "      <td>worldcom boss left books alone former worldcom...</td>\n",
       "      <td>2</td>\n",
       "    </tr>\n",
       "    <tr>\n",
       "      <th>2</th>\n",
       "      <td>tigers wary farrell gamble leicester say rushe...</td>\n",
       "      <td>1</td>\n",
       "    </tr>\n",
       "    <tr>\n",
       "      <th>3</th>\n",
       "      <td>yeading face newcastle fa cup premiership side...</td>\n",
       "      <td>1</td>\n",
       "    </tr>\n",
       "    <tr>\n",
       "      <th>4</th>\n",
       "      <td>ocean twelve raids box office ocean twelve cri...</td>\n",
       "      <td>0</td>\n",
       "    </tr>\n",
       "  </tbody>\n",
       "</table>\n",
       "</div>"
      ],
      "text/plain": [
       "                                        cleaned_text  cluster_labels\n",
       "0  tv future hands viewers home theatre systems p...               0\n",
       "1  worldcom boss left books alone former worldcom...               2\n",
       "2  tigers wary farrell gamble leicester say rushe...               1\n",
       "3  yeading face newcastle fa cup premiership side...               1\n",
       "4  ocean twelve raids box office ocean twelve cri...               0"
      ]
     },
     "execution_count": 29,
     "metadata": {},
     "output_type": "execute_result"
    }
   ],
   "source": [
    "cluster_data.head()"
   ]
  },
  {
   "cell_type": "code",
   "execution_count": 30,
   "metadata": {},
   "outputs": [
    {
     "data": {
      "text/plain": [
       "cluster_labels\n",
       "0    860\n",
       "1    499\n",
       "2    478\n",
       "3    289\n",
       "Name: count, dtype: int64"
      ]
     },
     "execution_count": 30,
     "metadata": {},
     "output_type": "execute_result"
    }
   ],
   "source": [
    "cluster_data['cluster_labels'].value_counts()"
   ]
  },
  {
   "cell_type": "markdown",
   "metadata": {},
   "source": [
    "**Text Classification**"
   ]
  },
  {
   "cell_type": "code",
   "execution_count": 35,
   "metadata": {},
   "outputs": [
    {
     "name": "stdout",
     "output_type": "stream",
     "text": [
      "Index(['category', 'text', 'cleaned_text'], dtype='object')\n",
      "Label column does not exist\n"
     ]
    }
   ],
   "source": [
    "# Check column names\n",
    "print(data.columns)\n",
    "\n",
    "# Check if 'label' column exists\n",
    "if 'label' in data.columns:\n",
    "    print(\"Label column exists\")\n",
    "else:\n",
    "    print(\"Label column does not exist\")"
   ]
  },
  {
   "cell_type": "code",
   "execution_count": 36,
   "metadata": {},
   "outputs": [],
   "source": [
    "X = vectorizer.fit_transform(data['cleaned_text'].values).toarray()\n",
    "y = data['category']"
   ]
  },
  {
   "cell_type": "code",
   "execution_count": 37,
   "metadata": {},
   "outputs": [],
   "source": [
    "from sklearn.model_selection import train_test_split\n",
    "from sklearn.naive_bayes import MultinomialNB\n",
    "from sklearn.linear_model import LogisticRegression\n",
    "from sklearn.ensemble import RandomForestClassifier\n",
    "from sklearn.svm import LinearSVC\n",
    "from sklearn.model_selection import cross_val_score\n",
    "from sklearn import metrics\n",
    "X_train, X_test, y_train, y_test = train_test_split(X, y, test_size=0.3, random_state = 42)"
   ]
  },
  {
   "cell_type": "code",
   "execution_count": 38,
   "metadata": {},
   "outputs": [
    {
     "name": "stderr",
     "output_type": "stream",
     "text": [
      "d:\\PROJECT\\.venv\\Lib\\site-packages\\sklearn\\svm\\_classes.py:32: FutureWarning: The default value of `dual` will change from `True` to `'auto'` in 1.5. Set the value of `dual` explicitly to suppress the warning.\n",
      "  warnings.warn(\n",
      "d:\\PROJECT\\.venv\\Lib\\site-packages\\sklearn\\svm\\_classes.py:32: FutureWarning: The default value of `dual` will change from `True` to `'auto'` in 1.5. Set the value of `dual` explicitly to suppress the warning.\n",
      "  warnings.warn(\n",
      "d:\\PROJECT\\.venv\\Lib\\site-packages\\sklearn\\svm\\_classes.py:32: FutureWarning: The default value of `dual` will change from `True` to `'auto'` in 1.5. Set the value of `dual` explicitly to suppress the warning.\n",
      "  warnings.warn(\n",
      "d:\\PROJECT\\.venv\\Lib\\site-packages\\sklearn\\svm\\_classes.py:32: FutureWarning: The default value of `dual` will change from `True` to `'auto'` in 1.5. Set the value of `dual` explicitly to suppress the warning.\n",
      "  warnings.warn(\n",
      "d:\\PROJECT\\.venv\\Lib\\site-packages\\sklearn\\svm\\_classes.py:32: FutureWarning: The default value of `dual` will change from `True` to `'auto'` in 1.5. Set the value of `dual` explicitly to suppress the warning.\n",
      "  warnings.warn(\n"
     ]
    }
   ],
   "source": [
    "models = [\n",
    "    RandomForestClassifier(n_estimators=100, max_depth=5, random_state=0),\n",
    "    LinearSVC(),\n",
    "    MultinomialNB(),\n",
    "    LogisticRegression(random_state=0),\n",
    "]\n",
    "# 5 Cross-validation\n",
    "\n",
    "entries = []\n",
    "for model in models:\n",
    "  model_name = model.__class__.__name__\n",
    "  accuracies = cross_val_score(model, X, y, scoring='accuracy', cv=5)\n",
    "  for idx, accuracy in enumerate(accuracies):\n",
    "    entries.append((model_name, idx, accuracy))\n",
    "cv_df = pd.DataFrame(entries, columns=['model_name', 'idx', 'accuracy'])"
   ]
  },
  {
   "cell_type": "markdown",
   "metadata": {},
   "source": [
    "**Model Selection**"
   ]
  },
  {
   "cell_type": "code",
   "execution_count": 39,
   "metadata": {},
   "outputs": [
    {
     "data": {
      "text/plain": [
       "model_name\n",
       "LinearSVC                 0.982596\n",
       "LogisticRegression        0.971778\n",
       "MultinomialNB             0.961431\n",
       "RandomForestClassifier    0.867827\n",
       "Name: accuracy, dtype: float64"
      ]
     },
     "execution_count": 39,
     "metadata": {},
     "output_type": "execute_result"
    }
   ],
   "source": [
    "mean_accuracy = cv_df.groupby('model_name').accuracy.mean()\n",
    "mean_accuracy"
   ]
  },
  {
   "cell_type": "code",
   "execution_count": 40,
   "metadata": {},
   "outputs": [
    {
     "name": "stderr",
     "output_type": "stream",
     "text": [
      "d:\\PROJECT\\.venv\\Lib\\site-packages\\sklearn\\svm\\_classes.py:32: FutureWarning: The default value of `dual` will change from `True` to `'auto'` in 1.5. Set the value of `dual` explicitly to suppress the warning.\n",
      "  warnings.warn(\n"
     ]
    }
   ],
   "source": [
    "model = LinearSVC()\n",
    "model.fit(X_train, y_train)\n",
    "y_pred = model.predict(X_test)"
   ]
  },
  {
   "cell_type": "code",
   "execution_count": 43,
   "metadata": {},
   "outputs": [
    {
     "name": "stdout",
     "output_type": "stream",
     "text": [
      "\t\t\\CLASSIFICATIION METRICS\n",
      "               precision    recall  f1-score   support\n",
      "\n",
      "         tech       0.98      0.97      0.98       151\n",
      "     business       0.99      1.00      0.99        98\n",
      "        sport       0.97      0.97      0.97       118\n",
      "entertainment       1.00      1.00      1.00       159\n",
      "     politics       0.98      0.98      0.98       112\n",
      "\n",
      "     accuracy                           0.99       638\n",
      "    macro avg       0.99      0.99      0.99       638\n",
      " weighted avg       0.99      0.99      0.99       638\n",
      "\n"
     ]
    }
   ],
   "source": [
    "print('\\t\\t\\CLASSIFICATIION METRICS')\n",
    "print(metrics.classification_report(y_test, y_pred, \n",
    "target_names= data['category'].unique()))"
   ]
  },
  {
   "cell_type": "markdown",
   "metadata": {},
   "source": [
    "**Predicting the Class**"
   ]
  },
  {
   "cell_type": "code",
   "execution_count": 44,
   "metadata": {},
   "outputs": [],
   "source": [
    "text ='Wheezing widespread problem children 5 years old India According American Academy Paediatrics 50 children would least one episode wheezing 5 years age child wheezes first question happens one’s mind whether child asthma whether require medicines long duration article let’s discuss myths facts wheezing treatment children 5 yearsMyth 1 wheezing asthmaFact fact viral infections common cause wheezing children five years age 60 children experience recurrent wheezing age 5 stop wheezing won’t develop asthma age However there’s family history asthma allergyrelated skin disease child may continue wheeze even age 5Myth 2 Inhalers harmful addictive used childrenFacts Inhalers safe nonaddictive medication used children relieve control asthma symptoms long run considered lifeline wheezing children used firstline medication prescribed doctor instead syrups tablets recommendation supported international organizations Global Initiative Asthma GINA children age 5Myth 3 Inhalers used children similar given adults lead overdosageFact Aerosol delivery devices adults children However dosage frequency use may differ based age severity wheeze Also amount drug deposited lungs depends upon breathing capacity person Adult lungs handle air volume resulting medication deposited dosage Pediatric lungs smaller receive less medication important consult doctor appropriate dosage control symptomsMyth 4 Inhalers contain steroids harm child growth developmentFact Inhalers contain steroids microgram doses 1000 times less dose syrups tablet steroids given wheeze exacerbations Inhalers like ointments drug gets deposited surface action required oral medications taken get absorbed intestines blood resulting delivery drug body parts action intended Hence side effects inhalers less compared oral medicationsMyth 5 Inhalers used severe cases wheezingFact Inhalers medications relieve also prevent recurrent wheezing long run Even child mild persistent asthma symptoms controllable inhalers oral medications standard careMyth 6 Inhalers cure asthmaFact Inhaler medications classified two categories – relievers controllers Relievers used alleviate wheezing controllers given prevent recurrent wheezing children Asthma allergy managed medications avoidance triggers It’s important note control possible cure However previously mentioned article children experience wheezing age 5 affected allergies asthma symptoms may improve age 6Myth 7 Nebulizers better inhalers used homeFact Nebulizers helpful sick children difficulty breathing wheezing However children breathing problems inhalers enough provide relief safe use nebulizers home children 5 years old using home machines without oxygen lead decrease oxygen levels unconsciousness Instead inhalers used home improvement inhalers important consult pediatrician go emergency room treatmentIn conclusion wheezing children mostly due viral infections Inhalers safe effective way manage wheeze children 5 years age essential help build awareness inhalers form important way wheeze treated Parents caregivers consult child’s doctor ensure child using inhalers correctly effectively Dr Karthik Narayanan R MD Pediatrics DM Pediatric critical care Emergency MedicineSenior Consultant Rainbow Children’s Hospital ChennaiDr Karthik Narayanan RMD Pediatrics DM Pediatric critical care Emergency Medicine Senior Consultant Rainbow Children’s Hospital ChennaiDisclaimerThis content sponsored reflect views opinions IE Online Media Services Pvt Ltd journalist involved creating sponsored material imply endorsement whatsoever editorial team IE Online Media Services takes responsibility content appears sponsored articles consequences thereof directly indirectly manner Viewer discretion advised'"
   ]
  },
  {
   "cell_type": "code",
   "execution_count": 45,
   "metadata": {},
   "outputs": [],
   "source": [
    "vect_text = vectorizer.transform([text])\n",
    "result = model.predict(vect_text)[0]"
   ]
  },
  {
   "cell_type": "code",
   "execution_count": 46,
   "metadata": {},
   "outputs": [
    {
     "name": "stdout",
     "output_type": "stream",
     "text": [
      "The text belongs to the category: politics\n"
     ]
    }
   ],
   "source": [
    "print(f\"The text belongs to the category: {result}\")"
   ]
  },
  {
   "cell_type": "markdown",
   "metadata": {},
   "source": [
    "**Saving the model as pickle file**"
   ]
  },
  {
   "cell_type": "code",
   "execution_count": 48,
   "metadata": {},
   "outputs": [],
   "source": [
    "import pickle\n",
    "with open('NCS_text_model.pkl','wb') as file:\n",
    "    pickle.dump(model,file)"
   ]
  },
  {
   "cell_type": "markdown",
   "metadata": {},
   "source": [
    "# WEB-SCRAPPING PROCESS"
   ]
  },
  {
   "cell_type": "code",
   "execution_count": 58,
   "metadata": {},
   "outputs": [],
   "source": [
    "from bs4 import BeautifulSoup as soup\n",
    "import requests"
   ]
  },
  {
   "cell_type": "markdown",
   "metadata": {},
   "source": [
    "**Parenting**"
   ]
  },
  {
   "cell_type": "code",
   "execution_count": 89,
   "metadata": {},
   "outputs": [],
   "source": [
    "html = requests.get('https://indianexpress.com/parenting/page/9/')             #THE HINDU e-paper parenting page url link"
   ]
  },
  {
   "cell_type": "code",
   "execution_count": 90,
   "metadata": {},
   "outputs": [
    {
     "ename": "FeatureNotFound",
     "evalue": "Couldn't find a tree builder with the features you requested: lxml. Do you need to install a parser library?",
     "output_type": "error",
     "traceback": [
      "\u001b[1;31m---------------------------------------------------------------------------\u001b[0m",
      "\u001b[1;31mFeatureNotFound\u001b[0m                           Traceback (most recent call last)",
      "Cell \u001b[1;32mIn[90], line 1\u001b[0m\n\u001b[1;32m----> 1\u001b[0m bsobj \u001b[38;5;241m=\u001b[39m \u001b[43msoup\u001b[49m\u001b[43m(\u001b[49m\u001b[43mhtml\u001b[49m\u001b[38;5;241;43m.\u001b[39;49m\u001b[43mcontent\u001b[49m\u001b[43m,\u001b[49m\u001b[38;5;124;43m'\u001b[39;49m\u001b[38;5;124;43mlxml\u001b[39;49m\u001b[38;5;124;43m'\u001b[39;49m\u001b[43m)\u001b[49m            \u001b[38;5;66;03m# or bsobj = BeautifulSoup(html.content, 'html.parser')\u001b[39;00m\n",
      "File \u001b[1;32md:\\PROJECT\\.venv\\Lib\\site-packages\\bs4\\__init__.py:250\u001b[0m, in \u001b[0;36mBeautifulSoup.__init__\u001b[1;34m(self, markup, features, builder, parse_only, from_encoding, exclude_encodings, element_classes, **kwargs)\u001b[0m\n\u001b[0;32m    248\u001b[0m     builder_class \u001b[38;5;241m=\u001b[39m builder_registry\u001b[38;5;241m.\u001b[39mlookup(\u001b[38;5;241m*\u001b[39mfeatures)\n\u001b[0;32m    249\u001b[0m     \u001b[38;5;28;01mif\u001b[39;00m builder_class \u001b[38;5;129;01mis\u001b[39;00m \u001b[38;5;28;01mNone\u001b[39;00m:\n\u001b[1;32m--> 250\u001b[0m         \u001b[38;5;28;01mraise\u001b[39;00m FeatureNotFound(\n\u001b[0;32m    251\u001b[0m             \u001b[38;5;124m\"\u001b[39m\u001b[38;5;124mCouldn\u001b[39m\u001b[38;5;124m'\u001b[39m\u001b[38;5;124mt find a tree builder with the features you \u001b[39m\u001b[38;5;124m\"\u001b[39m\n\u001b[0;32m    252\u001b[0m             \u001b[38;5;124m\"\u001b[39m\u001b[38;5;124mrequested: \u001b[39m\u001b[38;5;132;01m%s\u001b[39;00m\u001b[38;5;124m. Do you need to install a parser library?\u001b[39m\u001b[38;5;124m\"\u001b[39m\n\u001b[0;32m    253\u001b[0m             \u001b[38;5;241m%\u001b[39m \u001b[38;5;124m\"\u001b[39m\u001b[38;5;124m,\u001b[39m\u001b[38;5;124m\"\u001b[39m\u001b[38;5;241m.\u001b[39mjoin(features))\n\u001b[0;32m    255\u001b[0m \u001b[38;5;66;03m# At this point either we have a TreeBuilder instance in\u001b[39;00m\n\u001b[0;32m    256\u001b[0m \u001b[38;5;66;03m# builder, or we have a builder_class that we can instantiate\u001b[39;00m\n\u001b[0;32m    257\u001b[0m \u001b[38;5;66;03m# with the remaining **kwargs.\u001b[39;00m\n\u001b[0;32m    258\u001b[0m \u001b[38;5;28;01mif\u001b[39;00m builder \u001b[38;5;129;01mis\u001b[39;00m \u001b[38;5;28;01mNone\u001b[39;00m:\n",
      "\u001b[1;31mFeatureNotFound\u001b[0m: Couldn't find a tree builder with the features you requested: lxml. Do you need to install a parser library?"
     ]
    }
   ],
   "source": [
    "bsobj = soup(html.content,'lxml')            # or bsobj = BeautifulSoup(html.content, 'html.parser')"
   ]
  },
  {
   "cell_type": "code",
   "execution_count": 91,
   "metadata": {},
   "outputs": [],
   "source": [
    "bsobj = soup(html.content, 'html.parser')"
   ]
  },
  {
   "cell_type": "code",
   "execution_count": 92,
   "metadata": {},
   "outputs": [],
   "source": [
    "check = []\n",
    "for news in bsobj.findAll(\"h2\"):\n",
    "  check.append(news.text)"
   ]
  },
  {
   "cell_type": "code",
   "execution_count": 93,
   "metadata": {},
   "outputs": [
    {
     "data": {
      "text/plain": [
       "8"
      ]
     },
     "execution_count": 93,
     "metadata": {},
     "output_type": "execute_result"
    }
   ],
   "source": [
    "len(check)"
   ]
  },
  {
   "cell_type": "code",
   "execution_count": null,
   "metadata": {},
   "outputs": [],
   "source": [
    "text.extend(check)"
   ]
  },
  {
   "cell_type": "code",
   "execution_count": 94,
   "metadata": {},
   "outputs": [],
   "source": [
    "title = []\n",
    "for news in bsobj.findAll(\"h2\"):\n",
    "  title.append(news.text)\n",
    "     "
   ]
  },
  {
   "cell_type": "code",
   "execution_count": 95,
   "metadata": {},
   "outputs": [
    {
     "data": {
      "text/plain": [
       "8"
      ]
     },
     "execution_count": 95,
     "metadata": {},
     "output_type": "execute_result"
    }
   ],
   "source": [
    "len(title)"
   ]
  },
  {
   "cell_type": "code",
   "execution_count": 96,
   "metadata": {},
   "outputs": [],
   "source": [
    "try:\n",
    "  links = []\n",
    "  for news in bsobj.findAll(\"h2\",{'class':'title'}):\n",
    "   links.append(news.a['href'])\n",
    "except:\n",
    "  pass"
   ]
  },
  {
   "cell_type": "code",
   "execution_count": 97,
   "metadata": {},
   "outputs": [
    {
     "data": {
      "text/plain": [
       "0"
      ]
     },
     "execution_count": 97,
     "metadata": {},
     "output_type": "execute_result"
    }
   ],
   "source": [
    "len(links)"
   ]
  },
  {
   "cell_type": "code",
   "execution_count": 98,
   "metadata": {},
   "outputs": [],
   "source": [
    "check1 = []\n",
    "for link in links:\n",
    "  page = requests.get(link)\n",
    "  bs = soup(page.content)\n",
    "  for news in bs.findAll('div',{'class':'story_details'}):\n",
    "    check1.append(news.text.strip())"
   ]
  },
  {
   "cell_type": "code",
   "execution_count": 99,
   "metadata": {},
   "outputs": [
    {
     "data": {
      "text/plain": [
       "0"
      ]
     },
     "execution_count": 99,
     "metadata": {},
     "output_type": "execute_result"
    }
   ],
   "source": [
    "len(check1)"
   ]
  },
  {
   "cell_type": "code",
   "execution_count": null,
   "metadata": {},
   "outputs": [],
   "source": [
    "text.extend(check1)"
   ]
  },
  {
   "cell_type": "code",
   "execution_count": 100,
   "metadata": {},
   "outputs": [],
   "source": [
    "content = []\n",
    "for link in links:\n",
    "  page = requests.get(link)\n",
    "  bs = soup(page.content)\n",
    "  for news in bs.findAll('div',{'class':'story_details'}):\n",
    "    content.append(news.text.strip())"
   ]
  },
  {
   "cell_type": "code",
   "execution_count": 101,
   "metadata": {},
   "outputs": [
    {
     "data": {
      "text/plain": [
       "0"
      ]
     },
     "execution_count": 101,
     "metadata": {},
     "output_type": "execute_result"
    }
   ],
   "source": [
    "len(content)"
   ]
  },
  {
   "cell_type": "code",
   "execution_count": null,
   "metadata": {},
   "outputs": [],
   "source": [
    "import pandas as pd\n",
    "my_dic1 = {'title':title,'content':content}\n",
    "df = pd.DataFrame(my_dic1)\n",
    "df['label'] = 'parenting'"
   ]
  },
  {
   "cell_type": "code",
   "execution_count": 103,
   "metadata": {},
   "outputs": [
    {
     "data": {
      "text/html": [
       "<div>\n",
       "<style scoped>\n",
       "    .dataframe tbody tr th:only-of-type {\n",
       "        vertical-align: middle;\n",
       "    }\n",
       "\n",
       "    .dataframe tbody tr th {\n",
       "        vertical-align: top;\n",
       "    }\n",
       "\n",
       "    .dataframe thead th {\n",
       "        text-align: right;\n",
       "    }\n",
       "</style>\n",
       "<table border=\"1\" class=\"dataframe\">\n",
       "  <thead>\n",
       "    <tr style=\"text-align: right;\">\n",
       "      <th></th>\n",
       "      <th>title</th>\n",
       "      <th>content</th>\n",
       "      <th>label</th>\n",
       "    </tr>\n",
       "  </thead>\n",
       "  <tbody>\n",
       "    <tr>\n",
       "      <th>0</th>\n",
       "      <td>Improving Survival Rates of Pediatric Cancers ...</td>\n",
       "      <td>When previously healthy, active 3 years old Sa...</td>\n",
       "      <td>parenting</td>\n",
       "    </tr>\n",
       "    <tr>\n",
       "      <th>1</th>\n",
       "      <td>Paris-based artist Sujata Bajaj on what makes ...</td>\n",
       "      <td>Making art accessible to children, one artist ...</td>\n",
       "      <td>parenting</td>\n",
       "    </tr>\n",
       "    <tr>\n",
       "      <th>2</th>\n",
       "      <td>‘There is no one-size-fits-all approach to par...</td>\n",
       "      <td>Over the years, Anuradha Premnath, a mother an...</td>\n",
       "      <td>parenting</td>\n",
       "    </tr>\n",
       "    <tr>\n",
       "      <th>3</th>\n",
       "      <td>5 powerful ways to improve your child’s memory...</td>\n",
       "      <td>Most individuals have occasional lapses in mem...</td>\n",
       "      <td>parenting</td>\n",
       "    </tr>\n",
       "    <tr>\n",
       "      <th>4</th>\n",
       "      <td>Children and teens aren’t doing enough physica...</td>\n",
       "      <td>Physical inactivity is the fourth leading caus...</td>\n",
       "      <td>parenting</td>\n",
       "    </tr>\n",
       "    <tr>\n",
       "      <th>5</th>\n",
       "      <td>Take Time: Is your tween showing the following...</td>\n",
       "      <td>As a working mental-health professional, I see...</td>\n",
       "      <td>parenting</td>\n",
       "    </tr>\n",
       "    <tr>\n",
       "      <th>6</th>\n",
       "      <td>Doctor in the House: How to potty train your t...</td>\n",
       "      <td>Toilet training or potty training is a corners...</td>\n",
       "      <td>parenting</td>\n",
       "    </tr>\n",
       "    <tr>\n",
       "      <th>7</th>\n",
       "      <td>What makes French-American artist Louise Josép...</td>\n",
       "      <td>Artwork: Maman (sculpture)\\nArtist: Louise Bou...</td>\n",
       "      <td>parenting</td>\n",
       "    </tr>\n",
       "    <tr>\n",
       "      <th>8</th>\n",
       "      <td>All You Need to Know About Absence EpilepsySub...</td>\n",
       "      <td>6-year-old Master A was brought to the hospita...</td>\n",
       "      <td>parenting</td>\n",
       "    </tr>\n",
       "    <tr>\n",
       "      <th>9</th>\n",
       "      <td>What are the small ways you might want to opt ...</td>\n",
       "      <td>As the new year rolls out, it makes many of us...</td>\n",
       "      <td>parenting</td>\n",
       "    </tr>\n",
       "    <tr>\n",
       "      <th>10</th>\n",
       "      <td>31 tips to boost your family’s emotional and p...</td>\n",
       "      <td>Has the impact of the past two years created a...</td>\n",
       "      <td>parenting</td>\n",
       "    </tr>\n",
       "    <tr>\n",
       "      <th>11</th>\n",
       "      <td>Kids cause suffering (at least for parents) bu...</td>\n",
       "      <td>Some influential studies show that the decisio...</td>\n",
       "      <td>parenting</td>\n",
       "    </tr>\n",
       "    <tr>\n",
       "      <th>12</th>\n",
       "      <td>How spatial thinking could help children learn...</td>\n",
       "      <td>Do you struggle to visualise how to rotate you...</td>\n",
       "      <td>parenting</td>\n",
       "    </tr>\n",
       "    <tr>\n",
       "      <th>13</th>\n",
       "      <td>A good dad’s guide to managing paternity leave...</td>\n",
       "      <td>The idea of paternity leave is for the dad to ...</td>\n",
       "      <td>parenting</td>\n",
       "    </tr>\n",
       "    <tr>\n",
       "      <th>14</th>\n",
       "      <td>Twinkle Khanna says ‘our job is not to give ou...</td>\n",
       "      <td>Actor-turned-author Twinkle Khanna shared a po...</td>\n",
       "      <td>parenting</td>\n",
       "    </tr>\n",
       "    <tr>\n",
       "      <th>15</th>\n",
       "      <td>Doctor in the House: Here’s why your child cou...</td>\n",
       "      <td>Influenza vaccine\\nThe “flu” is a viral illnes...</td>\n",
       "      <td>parenting</td>\n",
       "    </tr>\n",
       "    <tr>\n",
       "      <th>16</th>\n",
       "      <td>Making art accessible to children, one artist ...</td>\n",
       "      <td>ARTWORK: Three Musicians, 1921\\nARTIST: Pablo ...</td>\n",
       "      <td>parenting</td>\n",
       "    </tr>\n",
       "    <tr>\n",
       "      <th>17</th>\n",
       "      <td>Weird questions children askSubscriber Only</td>\n",
       "      <td>Childhood is the time for curiosity, explorati...</td>\n",
       "      <td>parenting</td>\n",
       "    </tr>\n",
       "    <tr>\n",
       "      <th>18</th>\n",
       "      <td>Top 4 activities for an emotionally healthy ho...</td>\n",
       "      <td>There is a freshness to the beginning of the y...</td>\n",
       "      <td>parenting</td>\n",
       "    </tr>\n",
       "    <tr>\n",
       "      <th>19</th>\n",
       "      <td>Why happy rather than sad music soothes newbor...</td>\n",
       "      <td>Music is the language of emotions, arousing an...</td>\n",
       "      <td>parenting</td>\n",
       "    </tr>\n",
       "    <tr>\n",
       "      <th>20</th>\n",
       "      <td>How to keep children hydrated during wintersSu...</td>\n",
       "      <td>Dr Parvinder Singh Narang\\nWe always assume th...</td>\n",
       "      <td>parenting</td>\n",
       "    </tr>\n",
       "    <tr>\n",
       "      <th>21</th>\n",
       "      <td>Can Boys be Born with an Absent Testis?Subscri...</td>\n",
       "      <td>As a boy grows in the mother’s womb, his testi...</td>\n",
       "      <td>parenting</td>\n",
       "    </tr>\n",
       "    <tr>\n",
       "      <th>22</th>\n",
       "      <td>Doctor in the House: Weaning babySubscriber Only</td>\n",
       "      <td>Most new parents are excited about the whole p...</td>\n",
       "      <td>parenting</td>\n",
       "    </tr>\n",
       "    <tr>\n",
       "      <th>23</th>\n",
       "      <td>Curious kids: Do all animals have belly button...</td>\n",
       "      <td>Do live-born lizards have belly buttons, and d...</td>\n",
       "      <td>parenting</td>\n",
       "    </tr>\n",
       "    <tr>\n",
       "      <th>24</th>\n",
       "      <td>What makes Nandalal Bose’s 1938 Haripura poste...</td>\n",
       "      <td>Artwork: Haripura posters, 1938\\nArtist: Nanda...</td>\n",
       "      <td>parenting</td>\n",
       "    </tr>\n",
       "  </tbody>\n",
       "</table>\n",
       "</div>"
      ],
      "text/plain": [
       "                                                title  \\\n",
       "0   Improving Survival Rates of Pediatric Cancers ...   \n",
       "1   Paris-based artist Sujata Bajaj on what makes ...   \n",
       "2   ‘There is no one-size-fits-all approach to par...   \n",
       "3   5 powerful ways to improve your child’s memory...   \n",
       "4   Children and teens aren’t doing enough physica...   \n",
       "5   Take Time: Is your tween showing the following...   \n",
       "6   Doctor in the House: How to potty train your t...   \n",
       "7   What makes French-American artist Louise Josép...   \n",
       "8   All You Need to Know About Absence EpilepsySub...   \n",
       "9   What are the small ways you might want to opt ...   \n",
       "10  31 tips to boost your family’s emotional and p...   \n",
       "11  Kids cause suffering (at least for parents) bu...   \n",
       "12  How spatial thinking could help children learn...   \n",
       "13  A good dad’s guide to managing paternity leave...   \n",
       "14  Twinkle Khanna says ‘our job is not to give ou...   \n",
       "15  Doctor in the House: Here’s why your child cou...   \n",
       "16  Making art accessible to children, one artist ...   \n",
       "17        Weird questions children askSubscriber Only   \n",
       "18  Top 4 activities for an emotionally healthy ho...   \n",
       "19  Why happy rather than sad music soothes newbor...   \n",
       "20  How to keep children hydrated during wintersSu...   \n",
       "21  Can Boys be Born with an Absent Testis?Subscri...   \n",
       "22   Doctor in the House: Weaning babySubscriber Only   \n",
       "23  Curious kids: Do all animals have belly button...   \n",
       "24  What makes Nandalal Bose’s 1938 Haripura poste...   \n",
       "\n",
       "                                              content      label  \n",
       "0   When previously healthy, active 3 years old Sa...  parenting  \n",
       "1   Making art accessible to children, one artist ...  parenting  \n",
       "2   Over the years, Anuradha Premnath, a mother an...  parenting  \n",
       "3   Most individuals have occasional lapses in mem...  parenting  \n",
       "4   Physical inactivity is the fourth leading caus...  parenting  \n",
       "5   As a working mental-health professional, I see...  parenting  \n",
       "6   Toilet training or potty training is a corners...  parenting  \n",
       "7   Artwork: Maman (sculpture)\\nArtist: Louise Bou...  parenting  \n",
       "8   6-year-old Master A was brought to the hospita...  parenting  \n",
       "9   As the new year rolls out, it makes many of us...  parenting  \n",
       "10  Has the impact of the past two years created a...  parenting  \n",
       "11  Some influential studies show that the decisio...  parenting  \n",
       "12  Do you struggle to visualise how to rotate you...  parenting  \n",
       "13  The idea of paternity leave is for the dad to ...  parenting  \n",
       "14  Actor-turned-author Twinkle Khanna shared a po...  parenting  \n",
       "15  Influenza vaccine\\nThe “flu” is a viral illnes...  parenting  \n",
       "16  ARTWORK: Three Musicians, 1921\\nARTIST: Pablo ...  parenting  \n",
       "17  Childhood is the time for curiosity, explorati...  parenting  \n",
       "18  There is a freshness to the beginning of the y...  parenting  \n",
       "19  Music is the language of emotions, arousing an...  parenting  \n",
       "20  Dr Parvinder Singh Narang\\nWe always assume th...  parenting  \n",
       "21  As a boy grows in the mother’s womb, his testi...  parenting  \n",
       "22  Most new parents are excited about the whole p...  parenting  \n",
       "23  Do live-born lizards have belly buttons, and d...  parenting  \n",
       "24  Artwork: Haripura posters, 1938\\nArtist: Nanda...  parenting  "
      ]
     },
     "execution_count": 103,
     "metadata": {},
     "output_type": "execute_result"
    }
   ],
   "source": [
    "df"
   ]
  },
  {
   "cell_type": "markdown",
   "metadata": {},
   "source": [
    "**Politics**"
   ]
  },
  {
   "cell_type": "code",
   "execution_count": 167,
   "metadata": {},
   "outputs": [],
   "source": [
    "\n",
    "html = requests.get('https://indianexpress.com/section/political-pulse/page/9/')"
   ]
  },
  {
   "cell_type": "code",
   "execution_count": 116,
   "metadata": {},
   "outputs": [
    {
     "ename": "FeatureNotFound",
     "evalue": "Couldn't find a tree builder with the features you requested: lxml. Do you need to install a parser library?",
     "output_type": "error",
     "traceback": [
      "\u001b[1;31m---------------------------------------------------------------------------\u001b[0m",
      "\u001b[1;31mFeatureNotFound\u001b[0m                           Traceback (most recent call last)",
      "Cell \u001b[1;32mIn[116], line 1\u001b[0m\n\u001b[1;32m----> 1\u001b[0m bs \u001b[38;5;241m=\u001b[39m \u001b[43msoup\u001b[49m\u001b[43m(\u001b[49m\u001b[43mhtml\u001b[49m\u001b[38;5;241;43m.\u001b[39;49m\u001b[43mcontent\u001b[49m\u001b[43m,\u001b[49m\u001b[38;5;124;43m'\u001b[39;49m\u001b[38;5;124;43mlxml\u001b[39;49m\u001b[38;5;124;43m'\u001b[39;49m\u001b[43m)\u001b[49m\n",
      "File \u001b[1;32md:\\PROJECT\\.venv\\Lib\\site-packages\\bs4\\__init__.py:250\u001b[0m, in \u001b[0;36mBeautifulSoup.__init__\u001b[1;34m(self, markup, features, builder, parse_only, from_encoding, exclude_encodings, element_classes, **kwargs)\u001b[0m\n\u001b[0;32m    248\u001b[0m     builder_class \u001b[38;5;241m=\u001b[39m builder_registry\u001b[38;5;241m.\u001b[39mlookup(\u001b[38;5;241m*\u001b[39mfeatures)\n\u001b[0;32m    249\u001b[0m     \u001b[38;5;28;01mif\u001b[39;00m builder_class \u001b[38;5;129;01mis\u001b[39;00m \u001b[38;5;28;01mNone\u001b[39;00m:\n\u001b[1;32m--> 250\u001b[0m         \u001b[38;5;28;01mraise\u001b[39;00m FeatureNotFound(\n\u001b[0;32m    251\u001b[0m             \u001b[38;5;124m\"\u001b[39m\u001b[38;5;124mCouldn\u001b[39m\u001b[38;5;124m'\u001b[39m\u001b[38;5;124mt find a tree builder with the features you \u001b[39m\u001b[38;5;124m\"\u001b[39m\n\u001b[0;32m    252\u001b[0m             \u001b[38;5;124m\"\u001b[39m\u001b[38;5;124mrequested: \u001b[39m\u001b[38;5;132;01m%s\u001b[39;00m\u001b[38;5;124m. Do you need to install a parser library?\u001b[39m\u001b[38;5;124m\"\u001b[39m\n\u001b[0;32m    253\u001b[0m             \u001b[38;5;241m%\u001b[39m \u001b[38;5;124m\"\u001b[39m\u001b[38;5;124m,\u001b[39m\u001b[38;5;124m\"\u001b[39m\u001b[38;5;241m.\u001b[39mjoin(features))\n\u001b[0;32m    255\u001b[0m \u001b[38;5;66;03m# At this point either we have a TreeBuilder instance in\u001b[39;00m\n\u001b[0;32m    256\u001b[0m \u001b[38;5;66;03m# builder, or we have a builder_class that we can instantiate\u001b[39;00m\n\u001b[0;32m    257\u001b[0m \u001b[38;5;66;03m# with the remaining **kwargs.\u001b[39;00m\n\u001b[0;32m    258\u001b[0m \u001b[38;5;28;01mif\u001b[39;00m builder \u001b[38;5;129;01mis\u001b[39;00m \u001b[38;5;28;01mNone\u001b[39;00m:\n",
      "\u001b[1;31mFeatureNotFound\u001b[0m: Couldn't find a tree builder with the features you requested: lxml. Do you need to install a parser library?"
     ]
    }
   ],
   "source": [
    "bs = soup(html.content,'lxml')"
   ]
  },
  {
   "cell_type": "code",
   "execution_count": 168,
   "metadata": {},
   "outputs": [],
   "source": [
    "bs = soup(html.content, 'html.parser')"
   ]
  },
  {
   "cell_type": "code",
   "execution_count": 169,
   "metadata": {},
   "outputs": [],
   "source": [
    "for news in bs.findAll(\"h2\"):\n",
    "    title.append(news.text)"
   ]
  },
  {
   "cell_type": "code",
   "execution_count": 170,
   "metadata": {},
   "outputs": [
    {
     "data": {
      "text/plain": [
       "50"
      ]
     },
     "execution_count": 170,
     "metadata": {},
     "output_type": "execute_result"
    }
   ],
   "source": [
    "len(title)"
   ]
  },
  {
   "cell_type": "code",
   "execution_count": 171,
   "metadata": {},
   "outputs": [
    {
     "data": {
      "text/plain": [
       "['https://indianexpress.com/article/political-pulse/cross-voting-rajya-sabha-polls-sanjay-seth-jds-9183702/',\n",
       " 'https://indianexpress.com/article/political-pulse/victims-mob-lynching-bulldozer-culture-pasmanda-muslims-report-9183561/',\n",
       " 'https://indianexpress.com/article/political-pulse/rajya-sabha-polls-sp-mlas-bjp-india-9183390/',\n",
       " 'https://indianexpress.com/article/political-pulse/bjp-caste-census-demand-nitish-kumar-9183337/',\n",
       " 'https://indianexpress.com/article/political-pulse/congress-seats-uttar-pradesh-deal-samajwadi-party-2019-9183229/',\n",
       " 'https://indianexpress.com/article/political-pulse/rajya-sabha-polls-rahul-gandhi-pm-modi-kerala-tamil-nadu-visit-9182915/',\n",
       " 'https://indianexpress.com/article/political-pulse/rajya-sabha-polls-today-sp-up-congress-karnataka-himachal-9182870/',\n",
       " 'https://indianexpress.com/article/political-pulse/kerala-cpi-annie-raja-interview-9182476/',\n",
       " 'https://indianexpress.com/article/political-pulse/sajad-lone-ls-poll-fray-baramulla-peoples-conference-skip-jammu-9182364/',\n",
       " 'https://indianexpress.com/article/political-pulse/maratha-quota-devendra-fadnavis-eknath-shinde-manoj-jarange-patil-9182326/',\n",
       " 'https://indianexpress.com/article/political-pulse/bjp-mla-t-raja-singh-cases-9182283/',\n",
       " 'https://indianexpress.com/article/political-pulse/bjp-target-lok-sabha2024-elections-50-percent-votes-9182211/',\n",
       " 'https://indianexpress.com/article/political-pulse/siddaramaiah-karnataka-dk-shivakumar-bjp-jds-9181891/',\n",
       " 'https://indianexpress.com/article/political-pulse/nafe-singh-rathee-killing-former-bjp-mla-booked-9181828/',\n",
       " 'https://indianexpress.com/article/political-pulse/congresss-lone-jharkhand-mp-geeta-kora-bjp-9181776/',\n",
       " 'https://indianexpress.com/article/political-pulse/ls-polls-kerala-kitex-cpm-sabu-m-jacob-9181607/',\n",
       " 'https://indianexpress.com/article/political-pulse/lok-sabha-elections-2024-shreya-verma-samajwadi-party-ayodhya-9181561/',\n",
       " 'https://indianexpress.com/article/political-pulse/aap-congress-delhi-pact-lok-sabha-polls-parties-seats-9180905/',\n",
       " 'https://indianexpress.com/article/political-pulse/today-in-politics-lok-sabha-polls-2024-bjp-opposition-9180878/',\n",
       " 'https://indianexpress.com/article/political-pulse/akhilesh-yadav-rahul-gandhi-yatra-9180580/',\n",
       " 'https://indianexpress.com/article/political-pulse/bsp-mp-ritesh-pandey-interview-had-almost-no-link-with-party-last-two-years-9180549/',\n",
       " 'https://indianexpress.com/article/political-pulse/rahul-gandhi-akhilesh-yadav-bharat-jodo-nyay-yatra-congress-sp-9180470/',\n",
       " 'https://indianexpress.com/article/political-pulse/maratha-quota-row-seat-sharing-divisions-bjp-marathwada-9180312/',\n",
       " 'https://indianexpress.com/article/political-pulse/ysrcp-raghu-ramakrishna-raju-quits-jagan-mohan-reddy-9180285/',\n",
       " 'https://indianexpress.com/article/political-pulse/decode-politics-bsp-mayawati-rebellion-9179985/']"
      ]
     },
     "execution_count": 171,
     "metadata": {},
     "output_type": "execute_result"
    }
   ],
   "source": [
    "try:\n",
    "  links = []\n",
    "  for news in bs.findAll(\"h2\",{'class':'title'}):\n",
    "          links.append(news.a['href'])\n",
    "          \n",
    "except:\n",
    "  pass\n",
    "links"
   ]
  },
  {
   "cell_type": "code",
   "execution_count": 172,
   "metadata": {},
   "outputs": [],
   "source": [
    "for link in links:\n",
    "  page = requests.get(link)\n",
    "  bs = soup(page.content)\n",
    "  for news in bs.findAll('div',{'class':'story_details'}):\n",
    "    content.append(news.text.strip())"
   ]
  },
  {
   "cell_type": "code",
   "execution_count": 173,
   "metadata": {},
   "outputs": [
    {
     "data": {
      "text/plain": [
       "50"
      ]
     },
     "execution_count": 173,
     "metadata": {},
     "output_type": "execute_result"
    }
   ],
   "source": [
    "len(content)"
   ]
  },
  {
   "cell_type": "code",
   "execution_count": 174,
   "metadata": {},
   "outputs": [
    {
     "data": {
      "text/html": [
       "<div>\n",
       "<style scoped>\n",
       "    .dataframe tbody tr th:only-of-type {\n",
       "        vertical-align: middle;\n",
       "    }\n",
       "\n",
       "    .dataframe tbody tr th {\n",
       "        vertical-align: top;\n",
       "    }\n",
       "\n",
       "    .dataframe thead th {\n",
       "        text-align: right;\n",
       "    }\n",
       "</style>\n",
       "<table border=\"1\" class=\"dataframe\">\n",
       "  <thead>\n",
       "    <tr style=\"text-align: right;\">\n",
       "      <th></th>\n",
       "      <th>title</th>\n",
       "      <th>content</th>\n",
       "      <th>label</th>\n",
       "    </tr>\n",
       "  </thead>\n",
       "  <tbody>\n",
       "    <tr>\n",
       "      <th>0</th>\n",
       "      <td>Thankamani movie review: Dileep film offers a ...</td>\n",
       "      <td>Kerala too, like many other parts of India, ha...</td>\n",
       "      <td>politics</td>\n",
       "    </tr>\n",
       "    <tr>\n",
       "      <th>1</th>\n",
       "      <td>Prabhas, Disha Patani jet off to Italy for Kal...</td>\n",
       "      <td>Actors Prabhas and Disha Patani left for Italy...</td>\n",
       "      <td>politics</td>\n",
       "    </tr>\n",
       "    <tr>\n",
       "      <th>2</th>\n",
       "      <td>Queen remains a timeless coming-of-age tale bu...</td>\n",
       "      <td>“No matter what I do I will forever be remembe...</td>\n",
       "      <td>politics</td>\n",
       "    </tr>\n",
       "    <tr>\n",
       "      <th>3</th>\n",
       "      <td>Karan Kundrra’s new car gets stolen, asks ‘pra...</td>\n",
       "      <td>Actor Karan Kundrra made a distressed video on...</td>\n",
       "      <td>politics</td>\n",
       "    </tr>\n",
       "    <tr>\n",
       "      <th>4</th>\n",
       "      <td>Maidaan trailer: Ajay Devgn has a Chak De Indi...</td>\n",
       "      <td>After a prolonged delay, fans will finally be ...</td>\n",
       "      <td>politics</td>\n",
       "    </tr>\n",
       "    <tr>\n",
       "      <th>5</th>\n",
       "      <td>Captivating the King actor Cho Jung Seok is a ...</td>\n",
       "      <td>“I want to evoke curiosity, make people wonder...</td>\n",
       "      <td>politics</td>\n",
       "    </tr>\n",
       "    <tr>\n",
       "      <th>6</th>\n",
       "      <td>Camila Cabello calls decision of reuniting wit...</td>\n",
       "      <td>Last April, when former lovebirds Shawn Mendes...</td>\n",
       "      <td>politics</td>\n",
       "    </tr>\n",
       "    <tr>\n",
       "      <th>7</th>\n",
       "      <td>Saif Ali Khan bats for Kareena Kapoor as she i...</td>\n",
       "      <td>Actors Kareena Kapoor Khan and Saif Ali Khan a...</td>\n",
       "      <td>politics</td>\n",
       "    </tr>\n",
       "    <tr>\n",
       "      <th>8</th>\n",
       "      <td>Twinkle Khanna spends quality time with her fu...</td>\n",
       "      <td>Actor-turned-author Twinkle Khanna took to her...</td>\n",
       "      <td>politics</td>\n",
       "    </tr>\n",
       "    <tr>\n",
       "      <th>9</th>\n",
       "      <td>Shark Tank India 3: Deepinder Goyal joins Anup...</td>\n",
       "      <td>Shark Tank India Season 3 has been getting int...</td>\n",
       "      <td>politics</td>\n",
       "    </tr>\n",
       "    <tr>\n",
       "      <th>10</th>\n",
       "      <td>Anurag Kashyap reviews Manjummel Boys, says Bo...</td>\n",
       "      <td>Filmmaker Anurag Kashyap is dropping truth bom...</td>\n",
       "      <td>politics</td>\n",
       "    </tr>\n",
       "    <tr>\n",
       "      <th>11</th>\n",
       "      <td>Aamir Khan responds to trolls as they ask him ...</td>\n",
       "      <td>Aamir Khan has been away from the movies for a...</td>\n",
       "      <td>politics</td>\n",
       "    </tr>\n",
       "    <tr>\n",
       "      <th>12</th>\n",
       "      <td>‘Aag laga diya’: Ranveer Singh dances to Malha...</td>\n",
       "      <td>The star-studded three day pre-wedding festivi...</td>\n",
       "      <td>politics</td>\n",
       "    </tr>\n",
       "    <tr>\n",
       "      <th>13</th>\n",
       "      <td>Gal Gadot welcomes baby no four Ori with husba...</td>\n",
       "      <td>Wonder Woman actress Gal Gadot has welcomed he...</td>\n",
       "      <td>politics</td>\n",
       "    </tr>\n",
       "    <tr>\n",
       "      <th>14</th>\n",
       "      <td>Shark Tank India: Anupam Mittal wants to know ...</td>\n",
       "      <td>Two 21-year-old entrepreneurs sparked off a bi...</td>\n",
       "      <td>politics</td>\n",
       "    </tr>\n",
       "    <tr>\n",
       "      <th>15</th>\n",
       "      <td>Dharmendra injured at family function in Udaip...</td>\n",
       "      <td>After reports of Dharmendra getting injured st...</td>\n",
       "      <td>politics</td>\n",
       "    </tr>\n",
       "    <tr>\n",
       "      <th>16</th>\n",
       "      <td>Ram Charan’s wife Upasana urges women to save ...</td>\n",
       "      <td>Upasana Kamineni Konidela, wife of Telugu star...</td>\n",
       "      <td>politics</td>\n",
       "    </tr>\n",
       "    <tr>\n",
       "      <th>17</th>\n",
       "      <td>Radhika Merchant’s veil in pre-wedding ceremon...</td>\n",
       "      <td>Anant Ambani and Radhika Merchant hosted three...</td>\n",
       "      <td>politics</td>\n",
       "    </tr>\n",
       "    <tr>\n",
       "      <th>18</th>\n",
       "      <td>Bigg Boss 17 winner Munawar Faruqui’s dismisse...</td>\n",
       "      <td>Master-blaster Sachin Tendulkar faced off agai...</td>\n",
       "      <td>politics</td>\n",
       "    </tr>\n",
       "    <tr>\n",
       "      <th>19</th>\n",
       "      <td>Upasana Konidela says ‘proud’ to be in husband...</td>\n",
       "      <td>Ram Charan and Upasana Konidela have been marr...</td>\n",
       "      <td>politics</td>\n",
       "    </tr>\n",
       "    <tr>\n",
       "      <th>20</th>\n",
       "      <td>Salman Khan jams in Jamnagar, poses with fans ...</td>\n",
       "      <td>Salman Khan was back in Jamnagar on Wednesday,...</td>\n",
       "      <td>politics</td>\n",
       "    </tr>\n",
       "    <tr>\n",
       "      <th>21</th>\n",
       "      <td>Imran Khan confirms he’s dating Lekha Washingt...</td>\n",
       "      <td>Imran Khan has been on an acting hiatus since ...</td>\n",
       "      <td>politics</td>\n",
       "    </tr>\n",
       "    <tr>\n",
       "      <th>22</th>\n",
       "      <td>Sonakshi Sinha says she never visited dad Shat...</td>\n",
       "      <td>Bollywood actor Sonakshi Sinha, who will next ...</td>\n",
       "      <td>politics</td>\n",
       "    </tr>\n",
       "    <tr>\n",
       "      <th>23</th>\n",
       "      <td>Shah Rukh Khan charms Jamnagar crowd as Ambani...</td>\n",
       "      <td>Anant Ambani and Radhika Merchant’s pre-weddin...</td>\n",
       "      <td>politics</td>\n",
       "    </tr>\n",
       "    <tr>\n",
       "      <th>24</th>\n",
       "      <td>Incendies: The best film of Denis Villeneuve’s...</td>\n",
       "      <td>With the combined budget of his last three fil...</td>\n",
       "      <td>politics</td>\n",
       "    </tr>\n",
       "    <tr>\n",
       "      <th>25</th>\n",
       "      <td>Amid reports of cross-voting in Rajya Sabha po...</td>\n",
       "      <td>Fifteen Rajya Sabha seats across three states ...</td>\n",
       "      <td>politics</td>\n",
       "    </tr>\n",
       "    <tr>\n",
       "      <th>26</th>\n",
       "      <td>Almost all victims of mob lynching, ‘bulldozer...</td>\n",
       "      <td>The All India Pasmanda Muslim Mahaz (AIPMM), a...</td>\n",
       "      <td>politics</td>\n",
       "    </tr>\n",
       "    <tr>\n",
       "      <th>27</th>\n",
       "      <td>Rajya Sabha polls: A day of blows for SP, star...</td>\n",
       "      <td>THE SAMAJWADI Party faced a series of setbacks...</td>\n",
       "      <td>politics</td>\n",
       "    </tr>\n",
       "    <tr>\n",
       "      <th>28</th>\n",
       "      <td>BJP cold to caste census, Nitish Kumar puts de...</td>\n",
       "      <td>Till only a few months ago, when the Janata Da...</td>\n",
       "      <td>politics</td>\n",
       "    </tr>\n",
       "    <tr>\n",
       "      <th>29</th>\n",
       "      <td>Cong 17 seats in UP deal: Why even SP help may...</td>\n",
       "      <td>The extended saga of the Opposition INDIA bloc...</td>\n",
       "      <td>politics</td>\n",
       "    </tr>\n",
       "    <tr>\n",
       "      <th>30</th>\n",
       "      <td>Today in Politics: RS polls may end in a photo...</td>\n",
       "      <td>All eyes will be on the Rajya Sabha polls in t...</td>\n",
       "      <td>politics</td>\n",
       "    </tr>\n",
       "    <tr>\n",
       "      <th>31</th>\n",
       "      <td>Rajya Sabha polls today: Disadvantage SP in UP...</td>\n",
       "      <td>Rajya Sabha polls: Mock voting, dinners and ba...</td>\n",
       "      <td>politics</td>\n",
       "    </tr>\n",
       "    <tr>\n",
       "      <th>32</th>\n",
       "      <td>What does Rahul or Congress gain in contesting...</td>\n",
       "      <td>The Communist Party of India (CPI) on Monday a...</td>\n",
       "      <td>politics</td>\n",
       "    </tr>\n",
       "    <tr>\n",
       "      <th>33</th>\n",
       "      <td>First off the blocks, Sajad Lone enters LS pol...</td>\n",
       "      <td>People’s Conference (PC) president Sajad Lone ...</td>\n",
       "      <td>politics</td>\n",
       "    </tr>\n",
       "    <tr>\n",
       "      <th>34</th>\n",
       "      <td>Maratha quota: Heat on Devendra Fadnavis singe...</td>\n",
       "      <td>Having steered the Maratha quota Bill through ...</td>\n",
       "      <td>politics</td>\n",
       "    </tr>\n",
       "    <tr>\n",
       "      <th>35</th>\n",
       "      <td>Litany of cases against T Raja Singh: BJP’s ra...</td>\n",
       "      <td>The BJP’s only Hyderabad MLA T Raja Singh is n...</td>\n",
       "      <td>politics</td>\n",
       "    </tr>\n",
       "    <tr>\n",
       "      <th>36</th>\n",
       "      <td>Road to 2024: BJP’s target not just 370 seats,...</td>\n",
       "      <td>As the general elections draw near, the BJP go...</td>\n",
       "      <td>politics</td>\n",
       "    </tr>\n",
       "    <tr>\n",
       "      <th>37</th>\n",
       "      <td>After temple Bill setback, Siddaramaiah govt m...</td>\n",
       "      <td>The Congress government in Karnataka is consid...</td>\n",
       "      <td>politics</td>\n",
       "    </tr>\n",
       "    <tr>\n",
       "      <th>38</th>\n",
       "      <td>Haryana INLD chief killing: Former BJP MLA boo...</td>\n",
       "      <td>They were political rivals who contested elect...</td>\n",
       "      <td>politics</td>\n",
       "    </tr>\n",
       "    <tr>\n",
       "      <th>39</th>\n",
       "      <td>Congress’s lone Jharkhand MP, Geeta Kora, now ...</td>\n",
       "      <td>In a huge blow to the Congress, its lone MP fr...</td>\n",
       "      <td>politics</td>\n",
       "    </tr>\n",
       "    <tr>\n",
       "      <th>40</th>\n",
       "      <td>As his Twenty20 now eyes LS polls in Kerala, K...</td>\n",
       "      <td>Twenty20 party chief and Managing Director of ...</td>\n",
       "      <td>politics</td>\n",
       "    </tr>\n",
       "    <tr>\n",
       "      <th>41</th>\n",
       "      <td>Riding on Beni Prasad Verma legacy in Gonda, S...</td>\n",
       "      <td>The Samajwadi Party (SP) has fielded 31-year-o...</td>\n",
       "      <td>politics</td>\n",
       "    </tr>\n",
       "    <tr>\n",
       "      <th>42</th>\n",
       "      <td>Behind AAP, Congress’s Delhi pact for LS polls...</td>\n",
       "      <td>Having failed to win a single of Delhi’s seven...</td>\n",
       "      <td>politics</td>\n",
       "    </tr>\n",
       "    <tr>\n",
       "      <th>43</th>\n",
       "      <td>Today in Politics: After making some headway, ...</td>\n",
       "      <td>The effectiveness of political communication l...</td>\n",
       "      <td>politics</td>\n",
       "    </tr>\n",
       "    <tr>\n",
       "      <th>44</th>\n",
       "      <td>As Akhilesh joins Rahul yatra, crowd echoes me...</td>\n",
       "      <td>Four days after his party sealed a seat-sharin...</td>\n",
       "      <td>politics</td>\n",
       "    </tr>\n",
       "    <tr>\n",
       "      <th>45</th>\n",
       "      <td>BSP MP Ritesh Pandey: ‘Had almost no link with...</td>\n",
       "      <td>Lok Sabha MP Ritesh Pandey who quit the Bahuja...</td>\n",
       "      <td>politics</td>\n",
       "    </tr>\n",
       "    <tr>\n",
       "      <th>46</th>\n",
       "      <td>As ‘UP ke ladke’ Rahul and Akhilesh reunite, a...</td>\n",
       "      <td>Seven years after they joined forces, “UP ke l...</td>\n",
       "      <td>politics</td>\n",
       "    </tr>\n",
       "    <tr>\n",
       "      <th>47</th>\n",
       "      <td>Maratha quota row, seat-sharing divisions: For...</td>\n",
       "      <td>Manoj Jarange-Patil, a possible drought, and a...</td>\n",
       "      <td>politics</td>\n",
       "    </tr>\n",
       "    <tr>\n",
       "      <th>48</th>\n",
       "      <td>Newsmaker | Another YSRCP MP quits, fires ‘Mah...</td>\n",
       "      <td>Following several run-ins with Andhra Pradesh ...</td>\n",
       "      <td>politics</td>\n",
       "    </tr>\n",
       "    <tr>\n",
       "      <th>49</th>\n",
       "      <td>Decode Politics: As BSP MP Ritesh Pandey resig...</td>\n",
       "      <td>With the Lok Sabha elections inching closer, t...</td>\n",
       "      <td>politics</td>\n",
       "    </tr>\n",
       "  </tbody>\n",
       "</table>\n",
       "</div>"
      ],
      "text/plain": [
       "                                                title  \\\n",
       "0   Thankamani movie review: Dileep film offers a ...   \n",
       "1   Prabhas, Disha Patani jet off to Italy for Kal...   \n",
       "2   Queen remains a timeless coming-of-age tale bu...   \n",
       "3   Karan Kundrra’s new car gets stolen, asks ‘pra...   \n",
       "4   Maidaan trailer: Ajay Devgn has a Chak De Indi...   \n",
       "5   Captivating the King actor Cho Jung Seok is a ...   \n",
       "6   Camila Cabello calls decision of reuniting wit...   \n",
       "7   Saif Ali Khan bats for Kareena Kapoor as she i...   \n",
       "8   Twinkle Khanna spends quality time with her fu...   \n",
       "9   Shark Tank India 3: Deepinder Goyal joins Anup...   \n",
       "10  Anurag Kashyap reviews Manjummel Boys, says Bo...   \n",
       "11  Aamir Khan responds to trolls as they ask him ...   \n",
       "12  ‘Aag laga diya’: Ranveer Singh dances to Malha...   \n",
       "13  Gal Gadot welcomes baby no four Ori with husba...   \n",
       "14  Shark Tank India: Anupam Mittal wants to know ...   \n",
       "15  Dharmendra injured at family function in Udaip...   \n",
       "16  Ram Charan’s wife Upasana urges women to save ...   \n",
       "17  Radhika Merchant’s veil in pre-wedding ceremon...   \n",
       "18  Bigg Boss 17 winner Munawar Faruqui’s dismisse...   \n",
       "19  Upasana Konidela says ‘proud’ to be in husband...   \n",
       "20  Salman Khan jams in Jamnagar, poses with fans ...   \n",
       "21  Imran Khan confirms he’s dating Lekha Washingt...   \n",
       "22  Sonakshi Sinha says she never visited dad Shat...   \n",
       "23  Shah Rukh Khan charms Jamnagar crowd as Ambani...   \n",
       "24  Incendies: The best film of Denis Villeneuve’s...   \n",
       "25  Amid reports of cross-voting in Rajya Sabha po...   \n",
       "26  Almost all victims of mob lynching, ‘bulldozer...   \n",
       "27  Rajya Sabha polls: A day of blows for SP, star...   \n",
       "28  BJP cold to caste census, Nitish Kumar puts de...   \n",
       "29  Cong 17 seats in UP deal: Why even SP help may...   \n",
       "30  Today in Politics: RS polls may end in a photo...   \n",
       "31  Rajya Sabha polls today: Disadvantage SP in UP...   \n",
       "32  What does Rahul or Congress gain in contesting...   \n",
       "33  First off the blocks, Sajad Lone enters LS pol...   \n",
       "34  Maratha quota: Heat on Devendra Fadnavis singe...   \n",
       "35  Litany of cases against T Raja Singh: BJP’s ra...   \n",
       "36  Road to 2024: BJP’s target not just 370 seats,...   \n",
       "37  After temple Bill setback, Siddaramaiah govt m...   \n",
       "38  Haryana INLD chief killing: Former BJP MLA boo...   \n",
       "39  Congress’s lone Jharkhand MP, Geeta Kora, now ...   \n",
       "40  As his Twenty20 now eyes LS polls in Kerala, K...   \n",
       "41  Riding on Beni Prasad Verma legacy in Gonda, S...   \n",
       "42  Behind AAP, Congress’s Delhi pact for LS polls...   \n",
       "43  Today in Politics: After making some headway, ...   \n",
       "44  As Akhilesh joins Rahul yatra, crowd echoes me...   \n",
       "45  BSP MP Ritesh Pandey: ‘Had almost no link with...   \n",
       "46  As ‘UP ke ladke’ Rahul and Akhilesh reunite, a...   \n",
       "47  Maratha quota row, seat-sharing divisions: For...   \n",
       "48  Newsmaker | Another YSRCP MP quits, fires ‘Mah...   \n",
       "49  Decode Politics: As BSP MP Ritesh Pandey resig...   \n",
       "\n",
       "                                              content     label  \n",
       "0   Kerala too, like many other parts of India, ha...  politics  \n",
       "1   Actors Prabhas and Disha Patani left for Italy...  politics  \n",
       "2   “No matter what I do I will forever be remembe...  politics  \n",
       "3   Actor Karan Kundrra made a distressed video on...  politics  \n",
       "4   After a prolonged delay, fans will finally be ...  politics  \n",
       "5   “I want to evoke curiosity, make people wonder...  politics  \n",
       "6   Last April, when former lovebirds Shawn Mendes...  politics  \n",
       "7   Actors Kareena Kapoor Khan and Saif Ali Khan a...  politics  \n",
       "8   Actor-turned-author Twinkle Khanna took to her...  politics  \n",
       "9   Shark Tank India Season 3 has been getting int...  politics  \n",
       "10  Filmmaker Anurag Kashyap is dropping truth bom...  politics  \n",
       "11  Aamir Khan has been away from the movies for a...  politics  \n",
       "12  The star-studded three day pre-wedding festivi...  politics  \n",
       "13  Wonder Woman actress Gal Gadot has welcomed he...  politics  \n",
       "14  Two 21-year-old entrepreneurs sparked off a bi...  politics  \n",
       "15  After reports of Dharmendra getting injured st...  politics  \n",
       "16  Upasana Kamineni Konidela, wife of Telugu star...  politics  \n",
       "17  Anant Ambani and Radhika Merchant hosted three...  politics  \n",
       "18  Master-blaster Sachin Tendulkar faced off agai...  politics  \n",
       "19  Ram Charan and Upasana Konidela have been marr...  politics  \n",
       "20  Salman Khan was back in Jamnagar on Wednesday,...  politics  \n",
       "21  Imran Khan has been on an acting hiatus since ...  politics  \n",
       "22  Bollywood actor Sonakshi Sinha, who will next ...  politics  \n",
       "23  Anant Ambani and Radhika Merchant’s pre-weddin...  politics  \n",
       "24  With the combined budget of his last three fil...  politics  \n",
       "25  Fifteen Rajya Sabha seats across three states ...  politics  \n",
       "26  The All India Pasmanda Muslim Mahaz (AIPMM), a...  politics  \n",
       "27  THE SAMAJWADI Party faced a series of setbacks...  politics  \n",
       "28  Till only a few months ago, when the Janata Da...  politics  \n",
       "29  The extended saga of the Opposition INDIA bloc...  politics  \n",
       "30  All eyes will be on the Rajya Sabha polls in t...  politics  \n",
       "31  Rajya Sabha polls: Mock voting, dinners and ba...  politics  \n",
       "32  The Communist Party of India (CPI) on Monday a...  politics  \n",
       "33  People’s Conference (PC) president Sajad Lone ...  politics  \n",
       "34  Having steered the Maratha quota Bill through ...  politics  \n",
       "35  The BJP’s only Hyderabad MLA T Raja Singh is n...  politics  \n",
       "36  As the general elections draw near, the BJP go...  politics  \n",
       "37  The Congress government in Karnataka is consid...  politics  \n",
       "38  They were political rivals who contested elect...  politics  \n",
       "39  In a huge blow to the Congress, its lone MP fr...  politics  \n",
       "40  Twenty20 party chief and Managing Director of ...  politics  \n",
       "41  The Samajwadi Party (SP) has fielded 31-year-o...  politics  \n",
       "42  Having failed to win a single of Delhi’s seven...  politics  \n",
       "43  The effectiveness of political communication l...  politics  \n",
       "44  Four days after his party sealed a seat-sharin...  politics  \n",
       "45  Lok Sabha MP Ritesh Pandey who quit the Bahuja...  politics  \n",
       "46  Seven years after they joined forces, “UP ke l...  politics  \n",
       "47  Manoj Jarange-Patil, a possible drought, and a...  politics  \n",
       "48  Following several run-ins with Andhra Pradesh ...  politics  \n",
       "49  With the Lok Sabha elections inching closer, t...  politics  "
      ]
     },
     "execution_count": 174,
     "metadata": {},
     "output_type": "execute_result"
    }
   ],
   "source": [
    "my_dic2 = {'title':title,'content':content}\n",
    "p_df = pd.DataFrame(my_dic2)\n",
    "p_df['label']= 'politics'\n",
    "p_df    "
   ]
  },
  {
   "cell_type": "markdown",
   "metadata": {},
   "source": [
    "**Lifestyle**"
   ]
  },
  {
   "cell_type": "code",
   "execution_count": 175,
   "metadata": {},
   "outputs": [],
   "source": [
    "\n",
    "html = requests.get('https://indianexpress.com/section/lifestyle/page/9/')"
   ]
  },
  {
   "cell_type": "code",
   "execution_count": 135,
   "metadata": {},
   "outputs": [
    {
     "ename": "FeatureNotFound",
     "evalue": "Couldn't find a tree builder with the features you requested: lxml. Do you need to install a parser library?",
     "output_type": "error",
     "traceback": [
      "\u001b[1;31m---------------------------------------------------------------------------\u001b[0m",
      "\u001b[1;31mFeatureNotFound\u001b[0m                           Traceback (most recent call last)",
      "Cell \u001b[1;32mIn[135], line 1\u001b[0m\n\u001b[1;32m----> 1\u001b[0m bs2 \u001b[38;5;241m=\u001b[39m \u001b[43msoup\u001b[49m\u001b[43m(\u001b[49m\u001b[43mhtml\u001b[49m\u001b[38;5;241;43m.\u001b[39;49m\u001b[43mcontent\u001b[49m\u001b[43m,\u001b[49m\u001b[38;5;124;43m'\u001b[39;49m\u001b[38;5;124;43mlxml\u001b[39;49m\u001b[38;5;124;43m'\u001b[39;49m\u001b[43m)\u001b[49m\n",
      "File \u001b[1;32md:\\PROJECT\\.venv\\Lib\\site-packages\\bs4\\__init__.py:250\u001b[0m, in \u001b[0;36mBeautifulSoup.__init__\u001b[1;34m(self, markup, features, builder, parse_only, from_encoding, exclude_encodings, element_classes, **kwargs)\u001b[0m\n\u001b[0;32m    248\u001b[0m     builder_class \u001b[38;5;241m=\u001b[39m builder_registry\u001b[38;5;241m.\u001b[39mlookup(\u001b[38;5;241m*\u001b[39mfeatures)\n\u001b[0;32m    249\u001b[0m     \u001b[38;5;28;01mif\u001b[39;00m builder_class \u001b[38;5;129;01mis\u001b[39;00m \u001b[38;5;28;01mNone\u001b[39;00m:\n\u001b[1;32m--> 250\u001b[0m         \u001b[38;5;28;01mraise\u001b[39;00m FeatureNotFound(\n\u001b[0;32m    251\u001b[0m             \u001b[38;5;124m\"\u001b[39m\u001b[38;5;124mCouldn\u001b[39m\u001b[38;5;124m'\u001b[39m\u001b[38;5;124mt find a tree builder with the features you \u001b[39m\u001b[38;5;124m\"\u001b[39m\n\u001b[0;32m    252\u001b[0m             \u001b[38;5;124m\"\u001b[39m\u001b[38;5;124mrequested: \u001b[39m\u001b[38;5;132;01m%s\u001b[39;00m\u001b[38;5;124m. Do you need to install a parser library?\u001b[39m\u001b[38;5;124m\"\u001b[39m\n\u001b[0;32m    253\u001b[0m             \u001b[38;5;241m%\u001b[39m \u001b[38;5;124m\"\u001b[39m\u001b[38;5;124m,\u001b[39m\u001b[38;5;124m\"\u001b[39m\u001b[38;5;241m.\u001b[39mjoin(features))\n\u001b[0;32m    255\u001b[0m \u001b[38;5;66;03m# At this point either we have a TreeBuilder instance in\u001b[39;00m\n\u001b[0;32m    256\u001b[0m \u001b[38;5;66;03m# builder, or we have a builder_class that we can instantiate\u001b[39;00m\n\u001b[0;32m    257\u001b[0m \u001b[38;5;66;03m# with the remaining **kwargs.\u001b[39;00m\n\u001b[0;32m    258\u001b[0m \u001b[38;5;28;01mif\u001b[39;00m builder \u001b[38;5;129;01mis\u001b[39;00m \u001b[38;5;28;01mNone\u001b[39;00m:\n",
      "\u001b[1;31mFeatureNotFound\u001b[0m: Couldn't find a tree builder with the features you requested: lxml. Do you need to install a parser library?"
     ]
    }
   ],
   "source": [
    "bs2 = soup(html.content,'lxml')"
   ]
  },
  {
   "cell_type": "code",
   "execution_count": 176,
   "metadata": {},
   "outputs": [],
   "source": [
    "bs2 = soup(html.content, 'html.parser')"
   ]
  },
  {
   "cell_type": "code",
   "execution_count": 177,
   "metadata": {},
   "outputs": [],
   "source": [
    "check = []\n",
    "for news in bs2.findAll(\"h2\"):\n",
    "    check.append(news.text)\n",
    "     "
   ]
  },
  {
   "cell_type": "code",
   "execution_count": 178,
   "metadata": {},
   "outputs": [
    {
     "data": {
      "text/plain": [
       "25"
      ]
     },
     "execution_count": 178,
     "metadata": {},
     "output_type": "execute_result"
    }
   ],
   "source": [
    "len(check)"
   ]
  },
  {
   "cell_type": "code",
   "execution_count": 179,
   "metadata": {},
   "outputs": [],
   "source": [
    "try:\n",
    "  links = []\n",
    "  for news in bs2.findAll(\"h2\",{'class':'title'}):\n",
    "          links.append(news.a['href'])\n",
    "except:\n",
    "  pass"
   ]
  },
  {
   "cell_type": "code",
   "execution_count": 180,
   "metadata": {},
   "outputs": [
    {
     "data": {
      "text/plain": [
       "25"
      ]
     },
     "execution_count": 180,
     "metadata": {},
     "output_type": "execute_result"
    }
   ],
   "source": [
    "len(links)"
   ]
  },
  {
   "cell_type": "code",
   "execution_count": 181,
   "metadata": {},
   "outputs": [],
   "source": [
    "check1 =[]\n",
    "for link in links:\n",
    "  page = requests.get(link)\n",
    "  bs = soup(page.content)\n",
    "  for news in bs.findAll('div',{'class':'story_details'}):\n",
    "    check1.append(news.text.strip())\n",
    "     "
   ]
  },
  {
   "cell_type": "code",
   "execution_count": 182,
   "metadata": {},
   "outputs": [
    {
     "data": {
      "text/plain": [
       "25"
      ]
     },
     "execution_count": 182,
     "metadata": {},
     "output_type": "execute_result"
    }
   ],
   "source": [
    "len(check1)"
   ]
  },
  {
   "cell_type": "code",
   "execution_count": 183,
   "metadata": {},
   "outputs": [],
   "source": [
    "content.extend(check1) "
   ]
  },
  {
   "cell_type": "code",
   "execution_count": 184,
   "metadata": {},
   "outputs": [],
   "source": [
    "for link in links:\n",
    "  page = requests.get(link)\n",
    "  bs = soup(page.content)\n",
    "  for news in bs.findAll('div',{'class':'story_details'}):\n",
    "    content.append(news.text.strip())"
   ]
  },
  {
   "cell_type": "code",
   "execution_count": 188,
   "metadata": {},
   "outputs": [
    {
     "data": {
      "text/plain": [
       "100"
      ]
     },
     "execution_count": 188,
     "metadata": {},
     "output_type": "execute_result"
    }
   ],
   "source": [
    "len(content)"
   ]
  },
  {
   "cell_type": "code",
   "execution_count": 190,
   "metadata": {},
   "outputs": [
    {
     "data": {
      "text/plain": [
       "Index(['title', 'content', 'label'], dtype='object')"
      ]
     },
     "execution_count": 190,
     "metadata": {},
     "output_type": "execute_result"
    }
   ],
   "source": [
    "df.columns"
   ]
  },
  {
   "cell_type": "code",
   "execution_count": 189,
   "metadata": {},
   "outputs": [
    {
     "ename": "ValueError",
     "evalue": "All arrays must be of the same length",
     "output_type": "error",
     "traceback": [
      "\u001b[1;31m---------------------------------------------------------------------------\u001b[0m",
      "\u001b[1;31mValueError\u001b[0m                                Traceback (most recent call last)",
      "Cell \u001b[1;32mIn[189], line 2\u001b[0m\n\u001b[0;32m      1\u001b[0m my_dic3 \u001b[38;5;241m=\u001b[39m {\u001b[38;5;124m'\u001b[39m\u001b[38;5;124mtitle\u001b[39m\u001b[38;5;124m'\u001b[39m:title,\u001b[38;5;124m'\u001b[39m\u001b[38;5;124mcontent\u001b[39m\u001b[38;5;124m'\u001b[39m:content}\n\u001b[1;32m----> 2\u001b[0m sp_df \u001b[38;5;241m=\u001b[39m \u001b[43mpd\u001b[49m\u001b[38;5;241;43m.\u001b[39;49m\u001b[43mDataFrame\u001b[49m\u001b[43m(\u001b[49m\u001b[43mmy_dic3\u001b[49m\u001b[43m)\u001b[49m\n\u001b[0;32m      3\u001b[0m sp_df[\u001b[38;5;124m'\u001b[39m\u001b[38;5;124mlabel\u001b[39m\u001b[38;5;124m'\u001b[39m]\u001b[38;5;241m=\u001b[39m \u001b[38;5;124m'\u001b[39m\u001b[38;5;124mlifestyle\u001b[39m\u001b[38;5;124m'\u001b[39m\n\u001b[0;32m      5\u001b[0m sp_df\n",
      "File \u001b[1;32md:\\PROJECT\\.venv\\Lib\\site-packages\\pandas\\core\\frame.py:733\u001b[0m, in \u001b[0;36mDataFrame.__init__\u001b[1;34m(self, data, index, columns, dtype, copy)\u001b[0m\n\u001b[0;32m    727\u001b[0m     mgr \u001b[38;5;241m=\u001b[39m \u001b[38;5;28mself\u001b[39m\u001b[38;5;241m.\u001b[39m_init_mgr(\n\u001b[0;32m    728\u001b[0m         data, axes\u001b[38;5;241m=\u001b[39m{\u001b[38;5;124m\"\u001b[39m\u001b[38;5;124mindex\u001b[39m\u001b[38;5;124m\"\u001b[39m: index, \u001b[38;5;124m\"\u001b[39m\u001b[38;5;124mcolumns\u001b[39m\u001b[38;5;124m\"\u001b[39m: columns}, dtype\u001b[38;5;241m=\u001b[39mdtype, copy\u001b[38;5;241m=\u001b[39mcopy\n\u001b[0;32m    729\u001b[0m     )\n\u001b[0;32m    731\u001b[0m \u001b[38;5;28;01melif\u001b[39;00m \u001b[38;5;28misinstance\u001b[39m(data, \u001b[38;5;28mdict\u001b[39m):\n\u001b[0;32m    732\u001b[0m     \u001b[38;5;66;03m# GH#38939 de facto copy defaults to False only in non-dict cases\u001b[39;00m\n\u001b[1;32m--> 733\u001b[0m     mgr \u001b[38;5;241m=\u001b[39m \u001b[43mdict_to_mgr\u001b[49m\u001b[43m(\u001b[49m\u001b[43mdata\u001b[49m\u001b[43m,\u001b[49m\u001b[43m \u001b[49m\u001b[43mindex\u001b[49m\u001b[43m,\u001b[49m\u001b[43m \u001b[49m\u001b[43mcolumns\u001b[49m\u001b[43m,\u001b[49m\u001b[43m \u001b[49m\u001b[43mdtype\u001b[49m\u001b[38;5;241;43m=\u001b[39;49m\u001b[43mdtype\u001b[49m\u001b[43m,\u001b[49m\u001b[43m \u001b[49m\u001b[43mcopy\u001b[49m\u001b[38;5;241;43m=\u001b[39;49m\u001b[43mcopy\u001b[49m\u001b[43m,\u001b[49m\u001b[43m \u001b[49m\u001b[43mtyp\u001b[49m\u001b[38;5;241;43m=\u001b[39;49m\u001b[43mmanager\u001b[49m\u001b[43m)\u001b[49m\n\u001b[0;32m    734\u001b[0m \u001b[38;5;28;01melif\u001b[39;00m \u001b[38;5;28misinstance\u001b[39m(data, ma\u001b[38;5;241m.\u001b[39mMaskedArray):\n\u001b[0;32m    735\u001b[0m     \u001b[38;5;28;01mfrom\u001b[39;00m \u001b[38;5;21;01mnumpy\u001b[39;00m\u001b[38;5;21;01m.\u001b[39;00m\u001b[38;5;21;01mma\u001b[39;00m \u001b[38;5;28;01mimport\u001b[39;00m mrecords\n",
      "File \u001b[1;32md:\\PROJECT\\.venv\\Lib\\site-packages\\pandas\\core\\internals\\construction.py:503\u001b[0m, in \u001b[0;36mdict_to_mgr\u001b[1;34m(data, index, columns, dtype, typ, copy)\u001b[0m\n\u001b[0;32m    499\u001b[0m     \u001b[38;5;28;01melse\u001b[39;00m:\n\u001b[0;32m    500\u001b[0m         \u001b[38;5;66;03m# dtype check to exclude e.g. range objects, scalars\u001b[39;00m\n\u001b[0;32m    501\u001b[0m         arrays \u001b[38;5;241m=\u001b[39m [x\u001b[38;5;241m.\u001b[39mcopy() \u001b[38;5;28;01mif\u001b[39;00m \u001b[38;5;28mhasattr\u001b[39m(x, \u001b[38;5;124m\"\u001b[39m\u001b[38;5;124mdtype\u001b[39m\u001b[38;5;124m\"\u001b[39m) \u001b[38;5;28;01melse\u001b[39;00m x \u001b[38;5;28;01mfor\u001b[39;00m x \u001b[38;5;129;01min\u001b[39;00m arrays]\n\u001b[1;32m--> 503\u001b[0m \u001b[38;5;28;01mreturn\u001b[39;00m \u001b[43marrays_to_mgr\u001b[49m\u001b[43m(\u001b[49m\u001b[43marrays\u001b[49m\u001b[43m,\u001b[49m\u001b[43m \u001b[49m\u001b[43mcolumns\u001b[49m\u001b[43m,\u001b[49m\u001b[43m \u001b[49m\u001b[43mindex\u001b[49m\u001b[43m,\u001b[49m\u001b[43m \u001b[49m\u001b[43mdtype\u001b[49m\u001b[38;5;241;43m=\u001b[39;49m\u001b[43mdtype\u001b[49m\u001b[43m,\u001b[49m\u001b[43m \u001b[49m\u001b[43mtyp\u001b[49m\u001b[38;5;241;43m=\u001b[39;49m\u001b[43mtyp\u001b[49m\u001b[43m,\u001b[49m\u001b[43m \u001b[49m\u001b[43mconsolidate\u001b[49m\u001b[38;5;241;43m=\u001b[39;49m\u001b[43mcopy\u001b[49m\u001b[43m)\u001b[49m\n",
      "File \u001b[1;32md:\\PROJECT\\.venv\\Lib\\site-packages\\pandas\\core\\internals\\construction.py:114\u001b[0m, in \u001b[0;36marrays_to_mgr\u001b[1;34m(arrays, columns, index, dtype, verify_integrity, typ, consolidate)\u001b[0m\n\u001b[0;32m    111\u001b[0m \u001b[38;5;28;01mif\u001b[39;00m verify_integrity:\n\u001b[0;32m    112\u001b[0m     \u001b[38;5;66;03m# figure out the index, if necessary\u001b[39;00m\n\u001b[0;32m    113\u001b[0m     \u001b[38;5;28;01mif\u001b[39;00m index \u001b[38;5;129;01mis\u001b[39;00m \u001b[38;5;28;01mNone\u001b[39;00m:\n\u001b[1;32m--> 114\u001b[0m         index \u001b[38;5;241m=\u001b[39m \u001b[43m_extract_index\u001b[49m\u001b[43m(\u001b[49m\u001b[43marrays\u001b[49m\u001b[43m)\u001b[49m\n\u001b[0;32m    115\u001b[0m     \u001b[38;5;28;01melse\u001b[39;00m:\n\u001b[0;32m    116\u001b[0m         index \u001b[38;5;241m=\u001b[39m ensure_index(index)\n",
      "File \u001b[1;32md:\\PROJECT\\.venv\\Lib\\site-packages\\pandas\\core\\internals\\construction.py:677\u001b[0m, in \u001b[0;36m_extract_index\u001b[1;34m(data)\u001b[0m\n\u001b[0;32m    675\u001b[0m lengths \u001b[38;5;241m=\u001b[39m \u001b[38;5;28mlist\u001b[39m(\u001b[38;5;28mset\u001b[39m(raw_lengths))\n\u001b[0;32m    676\u001b[0m \u001b[38;5;28;01mif\u001b[39;00m \u001b[38;5;28mlen\u001b[39m(lengths) \u001b[38;5;241m>\u001b[39m \u001b[38;5;241m1\u001b[39m:\n\u001b[1;32m--> 677\u001b[0m     \u001b[38;5;28;01mraise\u001b[39;00m \u001b[38;5;167;01mValueError\u001b[39;00m(\u001b[38;5;124m\"\u001b[39m\u001b[38;5;124mAll arrays must be of the same length\u001b[39m\u001b[38;5;124m\"\u001b[39m)\n\u001b[0;32m    679\u001b[0m \u001b[38;5;28;01mif\u001b[39;00m have_dicts:\n\u001b[0;32m    680\u001b[0m     \u001b[38;5;28;01mraise\u001b[39;00m \u001b[38;5;167;01mValueError\u001b[39;00m(\n\u001b[0;32m    681\u001b[0m         \u001b[38;5;124m\"\u001b[39m\u001b[38;5;124mMixing dicts with non-Series may lead to ambiguous ordering.\u001b[39m\u001b[38;5;124m\"\u001b[39m\n\u001b[0;32m    682\u001b[0m     )\n",
      "\u001b[1;31mValueError\u001b[0m: All arrays must be of the same length"
     ]
    }
   ],
   "source": [
    "my_dic3 = {'title':title,'content':content}\n",
    "sp_df = pd.DataFrame(my_dic3)\n",
    "sp_df['label']= 'lifestyle'\n",
    "\n",
    "sp_df"
   ]
  },
  {
   "cell_type": "markdown",
   "metadata": {},
   "source": [
    "**Entertainment**"
   ]
  },
  {
   "cell_type": "code",
   "execution_count": 148,
   "metadata": {},
   "outputs": [],
   "source": [
    "html = requests.get('https://indianexpress.com/section/entertainment/page/9/')"
   ]
  },
  {
   "cell_type": "code",
   "execution_count": 151,
   "metadata": {},
   "outputs": [
    {
     "ename": "FeatureNotFound",
     "evalue": "Couldn't find a tree builder with the features you requested: lxml. Do you need to install a parser library?",
     "output_type": "error",
     "traceback": [
      "\u001b[1;31m---------------------------------------------------------------------------\u001b[0m",
      "\u001b[1;31mFeatureNotFound\u001b[0m                           Traceback (most recent call last)",
      "Cell \u001b[1;32mIn[151], line 1\u001b[0m\n\u001b[1;32m----> 1\u001b[0m bs3 \u001b[38;5;241m=\u001b[39m \u001b[43msoup\u001b[49m\u001b[43m(\u001b[49m\u001b[43mhtml\u001b[49m\u001b[38;5;241;43m.\u001b[39;49m\u001b[43mcontent\u001b[49m\u001b[43m,\u001b[49m\u001b[38;5;124;43m'\u001b[39;49m\u001b[38;5;124;43mlxml\u001b[39;49m\u001b[38;5;124;43m'\u001b[39;49m\u001b[43m)\u001b[49m\n",
      "File \u001b[1;32md:\\PROJECT\\.venv\\Lib\\site-packages\\bs4\\__init__.py:250\u001b[0m, in \u001b[0;36mBeautifulSoup.__init__\u001b[1;34m(self, markup, features, builder, parse_only, from_encoding, exclude_encodings, element_classes, **kwargs)\u001b[0m\n\u001b[0;32m    248\u001b[0m     builder_class \u001b[38;5;241m=\u001b[39m builder_registry\u001b[38;5;241m.\u001b[39mlookup(\u001b[38;5;241m*\u001b[39mfeatures)\n\u001b[0;32m    249\u001b[0m     \u001b[38;5;28;01mif\u001b[39;00m builder_class \u001b[38;5;129;01mis\u001b[39;00m \u001b[38;5;28;01mNone\u001b[39;00m:\n\u001b[1;32m--> 250\u001b[0m         \u001b[38;5;28;01mraise\u001b[39;00m FeatureNotFound(\n\u001b[0;32m    251\u001b[0m             \u001b[38;5;124m\"\u001b[39m\u001b[38;5;124mCouldn\u001b[39m\u001b[38;5;124m'\u001b[39m\u001b[38;5;124mt find a tree builder with the features you \u001b[39m\u001b[38;5;124m\"\u001b[39m\n\u001b[0;32m    252\u001b[0m             \u001b[38;5;124m\"\u001b[39m\u001b[38;5;124mrequested: \u001b[39m\u001b[38;5;132;01m%s\u001b[39;00m\u001b[38;5;124m. Do you need to install a parser library?\u001b[39m\u001b[38;5;124m\"\u001b[39m\n\u001b[0;32m    253\u001b[0m             \u001b[38;5;241m%\u001b[39m \u001b[38;5;124m\"\u001b[39m\u001b[38;5;124m,\u001b[39m\u001b[38;5;124m\"\u001b[39m\u001b[38;5;241m.\u001b[39mjoin(features))\n\u001b[0;32m    255\u001b[0m \u001b[38;5;66;03m# At this point either we have a TreeBuilder instance in\u001b[39;00m\n\u001b[0;32m    256\u001b[0m \u001b[38;5;66;03m# builder, or we have a builder_class that we can instantiate\u001b[39;00m\n\u001b[0;32m    257\u001b[0m \u001b[38;5;66;03m# with the remaining **kwargs.\u001b[39;00m\n\u001b[0;32m    258\u001b[0m \u001b[38;5;28;01mif\u001b[39;00m builder \u001b[38;5;129;01mis\u001b[39;00m \u001b[38;5;28;01mNone\u001b[39;00m:\n",
      "\u001b[1;31mFeatureNotFound\u001b[0m: Couldn't find a tree builder with the features you requested: lxml. Do you need to install a parser library?"
     ]
    }
   ],
   "source": [
    "bs3 = soup(html.content,'lxml')"
   ]
  },
  {
   "cell_type": "code",
   "execution_count": 152,
   "metadata": {},
   "outputs": [],
   "source": [
    "bs3 = soup(html.content, 'html.parser')"
   ]
  },
  {
   "cell_type": "code",
   "execution_count": 153,
   "metadata": {},
   "outputs": [],
   "source": [
    "check = []\n",
    "for news in bs3.findAll('div',{'class':'title'}):\n",
    "  check.append(news.a['title'])"
   ]
  },
  {
   "cell_type": "code",
   "execution_count": 154,
   "metadata": {},
   "outputs": [
    {
     "data": {
      "text/plain": [
       "25"
      ]
     },
     "execution_count": 154,
     "metadata": {},
     "output_type": "execute_result"
    }
   ],
   "source": [
    "len(check)"
   ]
  },
  {
   "cell_type": "code",
   "execution_count": 155,
   "metadata": {},
   "outputs": [],
   "source": [
    "title.extend(check)"
   ]
  },
  {
   "cell_type": "code",
   "execution_count": 156,
   "metadata": {},
   "outputs": [],
   "source": [
    "title = []\n",
    "for news in bs3.findAll('div',{'class':'title'}):\n",
    "  title.append(news.a['title'])"
   ]
  },
  {
   "cell_type": "code",
   "execution_count": 157,
   "metadata": {},
   "outputs": [
    {
     "data": {
      "text/plain": [
       "25"
      ]
     },
     "execution_count": 157,
     "metadata": {},
     "output_type": "execute_result"
    }
   ],
   "source": [
    "len(title)"
   ]
  },
  {
   "cell_type": "code",
   "execution_count": 158,
   "metadata": {},
   "outputs": [],
   "source": [
    "try:\n",
    "  links = []\n",
    "  for news in bs3.findAll('div',{'class':'title'}):\n",
    "          links.append(news.a['href'])\n",
    "except:\n",
    "  pass"
   ]
  },
  {
   "cell_type": "code",
   "execution_count": 159,
   "metadata": {},
   "outputs": [
    {
     "data": {
      "text/plain": [
       "25"
      ]
     },
     "execution_count": 159,
     "metadata": {},
     "output_type": "execute_result"
    }
   ],
   "source": [
    "len(links)"
   ]
  },
  {
   "cell_type": "code",
   "execution_count": 160,
   "metadata": {},
   "outputs": [],
   "source": [
    "check1 =[]\n",
    "for link in links:\n",
    "  page = requests.get(link)\n",
    "  bs = soup(page.content)\n",
    "  for news in bs.findAll('div',{'class':'story_details'}):\n",
    "    check1.append(news.text.strip())"
   ]
  },
  {
   "cell_type": "code",
   "execution_count": 161,
   "metadata": {},
   "outputs": [
    {
     "data": {
      "text/plain": [
       "25"
      ]
     },
     "execution_count": 161,
     "metadata": {},
     "output_type": "execute_result"
    }
   ],
   "source": [
    "len(check1)"
   ]
  },
  {
   "cell_type": "code",
   "execution_count": 162,
   "metadata": {},
   "outputs": [],
   "source": [
    "content.extend(check1)"
   ]
  },
  {
   "cell_type": "code",
   "execution_count": 163,
   "metadata": {},
   "outputs": [],
   "source": [
    "content = []\n",
    "for link in links:\n",
    "  page = requests.get(link)\n",
    "  bs = soup(page.content)\n",
    "  for news in bs.findAll('div',{'class':'story_details'}):\n",
    "    content.append(news.text.strip())"
   ]
  },
  {
   "cell_type": "code",
   "execution_count": 164,
   "metadata": {},
   "outputs": [
    {
     "data": {
      "text/plain": [
       "25"
      ]
     },
     "execution_count": 164,
     "metadata": {},
     "output_type": "execute_result"
    }
   ],
   "source": [
    "len(content)"
   ]
  },
  {
   "cell_type": "code",
   "execution_count": 165,
   "metadata": {},
   "outputs": [
    {
     "data": {
      "text/html": [
       "<div>\n",
       "<style scoped>\n",
       "    .dataframe tbody tr th:only-of-type {\n",
       "        vertical-align: middle;\n",
       "    }\n",
       "\n",
       "    .dataframe tbody tr th {\n",
       "        vertical-align: top;\n",
       "    }\n",
       "\n",
       "    .dataframe thead th {\n",
       "        text-align: right;\n",
       "    }\n",
       "</style>\n",
       "<table border=\"1\" class=\"dataframe\">\n",
       "  <thead>\n",
       "    <tr style=\"text-align: right;\">\n",
       "      <th></th>\n",
       "      <th>title</th>\n",
       "      <th>content</th>\n",
       "      <th>label</th>\n",
       "    </tr>\n",
       "  </thead>\n",
       "  <tbody>\n",
       "    <tr>\n",
       "      <th>0</th>\n",
       "      <td>Thankamani movie review: Dileep film offers a ...</td>\n",
       "      <td>Kerala too, like many other parts of India, ha...</td>\n",
       "      <td>entertainmaent</td>\n",
       "    </tr>\n",
       "    <tr>\n",
       "      <th>1</th>\n",
       "      <td>Prabhas, Disha Patani jet off to Italy for Kal...</td>\n",
       "      <td>Actors Prabhas and Disha Patani left for Italy...</td>\n",
       "      <td>entertainmaent</td>\n",
       "    </tr>\n",
       "    <tr>\n",
       "      <th>2</th>\n",
       "      <td>Queen remains a timeless coming-of-age tale bu...</td>\n",
       "      <td>“No matter what I do I will forever be remembe...</td>\n",
       "      <td>entertainmaent</td>\n",
       "    </tr>\n",
       "    <tr>\n",
       "      <th>3</th>\n",
       "      <td>Karan Kundrra’s new car gets stolen, asks ‘pra...</td>\n",
       "      <td>Actor Karan Kundrra made a distressed video on...</td>\n",
       "      <td>entertainmaent</td>\n",
       "    </tr>\n",
       "    <tr>\n",
       "      <th>4</th>\n",
       "      <td>Maidaan trailer: Ajay Devgn has a Chak De Indi...</td>\n",
       "      <td>After a prolonged delay, fans will finally be ...</td>\n",
       "      <td>entertainmaent</td>\n",
       "    </tr>\n",
       "    <tr>\n",
       "      <th>5</th>\n",
       "      <td>Captivating the King actor Cho Jung Seok is a ...</td>\n",
       "      <td>“I want to evoke curiosity, make people wonder...</td>\n",
       "      <td>entertainmaent</td>\n",
       "    </tr>\n",
       "    <tr>\n",
       "      <th>6</th>\n",
       "      <td>Camila Cabello calls decision of reuniting wit...</td>\n",
       "      <td>Last April, when former lovebirds Shawn Mendes...</td>\n",
       "      <td>entertainmaent</td>\n",
       "    </tr>\n",
       "    <tr>\n",
       "      <th>7</th>\n",
       "      <td>Saif Ali Khan bats for Kareena Kapoor as she i...</td>\n",
       "      <td>Actors Kareena Kapoor Khan and Saif Ali Khan a...</td>\n",
       "      <td>entertainmaent</td>\n",
       "    </tr>\n",
       "    <tr>\n",
       "      <th>8</th>\n",
       "      <td>Twinkle Khanna spends quality time with her fu...</td>\n",
       "      <td>Actor-turned-author Twinkle Khanna took to her...</td>\n",
       "      <td>entertainmaent</td>\n",
       "    </tr>\n",
       "    <tr>\n",
       "      <th>9</th>\n",
       "      <td>Shark Tank India 3: Deepinder Goyal joins Anup...</td>\n",
       "      <td>Shark Tank India Season 3 has been getting int...</td>\n",
       "      <td>entertainmaent</td>\n",
       "    </tr>\n",
       "    <tr>\n",
       "      <th>10</th>\n",
       "      <td>Anurag Kashyap reviews Manjummel Boys, says Bo...</td>\n",
       "      <td>Filmmaker Anurag Kashyap is dropping truth bom...</td>\n",
       "      <td>entertainmaent</td>\n",
       "    </tr>\n",
       "    <tr>\n",
       "      <th>11</th>\n",
       "      <td>Aamir Khan responds to trolls as they ask him ...</td>\n",
       "      <td>Aamir Khan has been away from the movies for a...</td>\n",
       "      <td>entertainmaent</td>\n",
       "    </tr>\n",
       "    <tr>\n",
       "      <th>12</th>\n",
       "      <td>‘Aag laga diya’: Ranveer Singh dances to Malha...</td>\n",
       "      <td>The star-studded three day pre-wedding festivi...</td>\n",
       "      <td>entertainmaent</td>\n",
       "    </tr>\n",
       "    <tr>\n",
       "      <th>13</th>\n",
       "      <td>Gal Gadot welcomes baby no four Ori with husba...</td>\n",
       "      <td>Wonder Woman actress Gal Gadot has welcomed he...</td>\n",
       "      <td>entertainmaent</td>\n",
       "    </tr>\n",
       "    <tr>\n",
       "      <th>14</th>\n",
       "      <td>Shark Tank India: Anupam Mittal wants to know ...</td>\n",
       "      <td>Two 21-year-old entrepreneurs sparked off a bi...</td>\n",
       "      <td>entertainmaent</td>\n",
       "    </tr>\n",
       "    <tr>\n",
       "      <th>15</th>\n",
       "      <td>Dharmendra injured at family function in Udaip...</td>\n",
       "      <td>After reports of Dharmendra getting injured st...</td>\n",
       "      <td>entertainmaent</td>\n",
       "    </tr>\n",
       "    <tr>\n",
       "      <th>16</th>\n",
       "      <td>Ram Charan’s wife Upasana urges women to save ...</td>\n",
       "      <td>Upasana Kamineni Konidela, wife of Telugu star...</td>\n",
       "      <td>entertainmaent</td>\n",
       "    </tr>\n",
       "    <tr>\n",
       "      <th>17</th>\n",
       "      <td>Radhika Merchant’s veil in pre-wedding ceremon...</td>\n",
       "      <td>Anant Ambani and Radhika Merchant hosted three...</td>\n",
       "      <td>entertainmaent</td>\n",
       "    </tr>\n",
       "    <tr>\n",
       "      <th>18</th>\n",
       "      <td>Bigg Boss 17 winner Munawar Faruqui’s dismisse...</td>\n",
       "      <td>Master-blaster Sachin Tendulkar faced off agai...</td>\n",
       "      <td>entertainmaent</td>\n",
       "    </tr>\n",
       "    <tr>\n",
       "      <th>19</th>\n",
       "      <td>Upasana Konidela says ‘proud’ to be in husband...</td>\n",
       "      <td>Ram Charan and Upasana Konidela have been marr...</td>\n",
       "      <td>entertainmaent</td>\n",
       "    </tr>\n",
       "    <tr>\n",
       "      <th>20</th>\n",
       "      <td>Salman Khan jams in Jamnagar, poses with fans ...</td>\n",
       "      <td>Salman Khan was back in Jamnagar on Wednesday,...</td>\n",
       "      <td>entertainmaent</td>\n",
       "    </tr>\n",
       "    <tr>\n",
       "      <th>21</th>\n",
       "      <td>Imran Khan confirms he’s dating Lekha Washingt...</td>\n",
       "      <td>Imran Khan has been on an acting hiatus since ...</td>\n",
       "      <td>entertainmaent</td>\n",
       "    </tr>\n",
       "    <tr>\n",
       "      <th>22</th>\n",
       "      <td>Sonakshi Sinha says she never visited dad Shat...</td>\n",
       "      <td>Bollywood actor Sonakshi Sinha, who will next ...</td>\n",
       "      <td>entertainmaent</td>\n",
       "    </tr>\n",
       "    <tr>\n",
       "      <th>23</th>\n",
       "      <td>Shah Rukh Khan charms Jamnagar crowd as Ambani...</td>\n",
       "      <td>Anant Ambani and Radhika Merchant’s pre-weddin...</td>\n",
       "      <td>entertainmaent</td>\n",
       "    </tr>\n",
       "    <tr>\n",
       "      <th>24</th>\n",
       "      <td>Incendies: The best film of Denis Villeneuve’s...</td>\n",
       "      <td>With the combined budget of his last three fil...</td>\n",
       "      <td>entertainmaent</td>\n",
       "    </tr>\n",
       "  </tbody>\n",
       "</table>\n",
       "</div>"
      ],
      "text/plain": [
       "                                                title  \\\n",
       "0   Thankamani movie review: Dileep film offers a ...   \n",
       "1   Prabhas, Disha Patani jet off to Italy for Kal...   \n",
       "2   Queen remains a timeless coming-of-age tale bu...   \n",
       "3   Karan Kundrra’s new car gets stolen, asks ‘pra...   \n",
       "4   Maidaan trailer: Ajay Devgn has a Chak De Indi...   \n",
       "5   Captivating the King actor Cho Jung Seok is a ...   \n",
       "6   Camila Cabello calls decision of reuniting wit...   \n",
       "7   Saif Ali Khan bats for Kareena Kapoor as she i...   \n",
       "8   Twinkle Khanna spends quality time with her fu...   \n",
       "9   Shark Tank India 3: Deepinder Goyal joins Anup...   \n",
       "10  Anurag Kashyap reviews Manjummel Boys, says Bo...   \n",
       "11  Aamir Khan responds to trolls as they ask him ...   \n",
       "12  ‘Aag laga diya’: Ranveer Singh dances to Malha...   \n",
       "13  Gal Gadot welcomes baby no four Ori with husba...   \n",
       "14  Shark Tank India: Anupam Mittal wants to know ...   \n",
       "15  Dharmendra injured at family function in Udaip...   \n",
       "16  Ram Charan’s wife Upasana urges women to save ...   \n",
       "17  Radhika Merchant’s veil in pre-wedding ceremon...   \n",
       "18  Bigg Boss 17 winner Munawar Faruqui’s dismisse...   \n",
       "19  Upasana Konidela says ‘proud’ to be in husband...   \n",
       "20  Salman Khan jams in Jamnagar, poses with fans ...   \n",
       "21  Imran Khan confirms he’s dating Lekha Washingt...   \n",
       "22  Sonakshi Sinha says she never visited dad Shat...   \n",
       "23  Shah Rukh Khan charms Jamnagar crowd as Ambani...   \n",
       "24  Incendies: The best film of Denis Villeneuve’s...   \n",
       "\n",
       "                                              content           label  \n",
       "0   Kerala too, like many other parts of India, ha...  entertainmaent  \n",
       "1   Actors Prabhas and Disha Patani left for Italy...  entertainmaent  \n",
       "2   “No matter what I do I will forever be remembe...  entertainmaent  \n",
       "3   Actor Karan Kundrra made a distressed video on...  entertainmaent  \n",
       "4   After a prolonged delay, fans will finally be ...  entertainmaent  \n",
       "5   “I want to evoke curiosity, make people wonder...  entertainmaent  \n",
       "6   Last April, when former lovebirds Shawn Mendes...  entertainmaent  \n",
       "7   Actors Kareena Kapoor Khan and Saif Ali Khan a...  entertainmaent  \n",
       "8   Actor-turned-author Twinkle Khanna took to her...  entertainmaent  \n",
       "9   Shark Tank India Season 3 has been getting int...  entertainmaent  \n",
       "10  Filmmaker Anurag Kashyap is dropping truth bom...  entertainmaent  \n",
       "11  Aamir Khan has been away from the movies for a...  entertainmaent  \n",
       "12  The star-studded three day pre-wedding festivi...  entertainmaent  \n",
       "13  Wonder Woman actress Gal Gadot has welcomed he...  entertainmaent  \n",
       "14  Two 21-year-old entrepreneurs sparked off a bi...  entertainmaent  \n",
       "15  After reports of Dharmendra getting injured st...  entertainmaent  \n",
       "16  Upasana Kamineni Konidela, wife of Telugu star...  entertainmaent  \n",
       "17  Anant Ambani and Radhika Merchant hosted three...  entertainmaent  \n",
       "18  Master-blaster Sachin Tendulkar faced off agai...  entertainmaent  \n",
       "19  Ram Charan and Upasana Konidela have been marr...  entertainmaent  \n",
       "20  Salman Khan was back in Jamnagar on Wednesday,...  entertainmaent  \n",
       "21  Imran Khan has been on an acting hiatus since ...  entertainmaent  \n",
       "22  Bollywood actor Sonakshi Sinha, who will next ...  entertainmaent  \n",
       "23  Anant Ambani and Radhika Merchant’s pre-weddin...  entertainmaent  \n",
       "24  With the combined budget of his last three fil...  entertainmaent  "
      ]
     },
     "execution_count": 165,
     "metadata": {},
     "output_type": "execute_result"
    }
   ],
   "source": [
    "my_dic4 = {'title':title,'content':content}\n",
    "en_df = pd.DataFrame(my_dic4)\n",
    "en_df['label']= 'entertainmaent'\n",
    "     \n",
    "en_df\n",
    "     "
   ]
  },
  {
   "cell_type": "code",
   "execution_count": null,
   "metadata": {},
   "outputs": [],
   "source": [
    "final_df = pd.concat([df,p_df,sp_df,en_df],axis = 0,ignore_index=True)\n",
    "final_df.info()"
   ]
  },
  {
   "cell_type": "code",
   "execution_count": null,
   "metadata": {},
   "outputs": [],
   "source": [
    "final_df.to_csv('NCS_nlp_data.csv',index =False)"
   ]
  }
 ],
 "metadata": {
  "kernelspec": {
   "display_name": ".venv",
   "language": "python",
   "name": "python3"
  },
  "language_info": {
   "codemirror_mode": {
    "name": "ipython",
    "version": 3
   },
   "file_extension": ".py",
   "mimetype": "text/x-python",
   "name": "python",
   "nbconvert_exporter": "python",
   "pygments_lexer": "ipython3",
   "version": "3.11.8"
  }
 },
 "nbformat": 4,
 "nbformat_minor": 2
}
